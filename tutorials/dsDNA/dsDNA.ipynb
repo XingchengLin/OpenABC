{
 "cells": [
  {
   "cell_type": "markdown",
   "metadata": {},
   "source": [
    "# Tutorial for setting up and simulating dsDNA with MRG-CG DNA model"
   ]
  },
  {
   "cell_type": "code",
   "execution_count": 1,
   "metadata": {},
   "outputs": [],
   "source": [
    "# load packages\n",
    "import numpy as np\n",
    "import pandas as pd\n",
    "import sys\n",
    "import os\n",
    "import argparse\n",
    "import simtk.openmm as mm\n",
    "import simtk.openmm.app as app\n",
    "import simtk.unit as unit\n",
    "\n",
    "sys.path.append('../../')\n",
    "from openabc.forcefields.parsers import MRGdsDNAParser\n",
    "from openabc.forcefields import MOFFMRGModel"
   ]
  },
  {
   "attachments": {},
   "cell_type": "markdown",
   "metadata": {},
   "source": [
    "We simulate a 200 bp dsDNA by MRG-CG DNA model. Similar to MOFF, for dsDNA, we also provide a simple way to parse DNA topology and get all the bonds, angles, fan bonds, etc. Use class `MRGdsDNAParser` to parse each dsDNA. The nonbonded exclusion list includes CG DNA atoms involved in bonds or angles, but those involved in fan bonds are not included. It is important that the parser cannot automatically recognize which nucleotides should be paired, so the input has to be the atomistic model of a single dsDNA with correct nucleotide index so that nucleotide i is paired with nucleotide N - i - 1 (nucleotide index starts from 0 and N is the total number of nucleotides in dsDNA). \n",
    "\n",
    "Also, as the original MRG-CG DNA model is designed with explicit ions, to apply this model with implicit ion, by default we scale all the bonded interaction (bond, angle, and fan bond) force constants by 0.9 to keep correct thermodynamic properties such as the persistence length. "
   ]
  },
  {
   "cell_type": "code",
   "execution_count": 2,
   "metadata": {},
   "outputs": [
    {
     "name": "stdout",
     "output_type": "stream",
     "text": [
      "Parse molecule with default settings.\n"
     ]
    }
   ],
   "source": [
    "# parse dsDNA with atomistic model as input\n",
    "dsDNA = MRGdsDNAParser.from_atomistic_pdb('all_atom_200bpDNA.pdb', 'MRG_dsDNA.pdb')"
   ]
  },
  {
   "cell_type": "markdown",
   "metadata": {},
   "source": [
    "Let's take a look at the bonds, angles, and fan bonds. You can see the force constants are scaled. "
   ]
  },
  {
   "cell_type": "code",
   "execution_count": 3,
   "metadata": {},
   "outputs": [
    {
     "name": "stdout",
     "output_type": "stream",
     "text": [
      "    a1   a2     r0  k_bond_2  k_bond_3  k_bond_4\n",
      "0  0.0  1.0  0.496    988.47 -851.0256  561.0744\n",
      "1  1.0  2.0  0.496    988.47 -851.0256  561.0744\n",
      "2  2.0  3.0  0.496    988.47 -851.0256  561.0744\n",
      "3  3.0  4.0  0.496    988.47 -851.0256  561.0744\n",
      "4  4.0  5.0  0.496    988.47 -851.0256  561.0744\n",
      "    a1   a2   a3    theta0  k_angle_2  k_angle_3  k_angle_4\n",
      "0  0.0  1.0  2.0  2.722714  34.718832  15.664896   4.059317\n",
      "1  1.0  2.0  3.0  2.722714  34.718832  15.664896   4.059317\n",
      "2  2.0  3.0  4.0  2.722714  34.718832  15.664896   4.059317\n",
      "3  3.0  4.0  5.0  2.722714  34.718832  15.664896   4.059317\n",
      "4  4.0  5.0  6.0  2.722714  34.718832  15.664896   4.059317\n",
      "    a1     a2     r0   k_bond_2   k_bond_3    k_bond_4\n",
      "0  0.0  394.0  1.710  17.585352    7.90776    5.497776\n",
      "1  0.0  395.0  1.635   0.000499  -45.94032   69.663600\n",
      "2  0.0  396.0  1.470  32.007600 -167.19264  188.280000\n",
      "3  0.0  397.0  1.345  46.316880 -150.62400  139.327200\n",
      "4  0.0  398.0  1.230  15.062400  -37.65600   30.124800\n"
     ]
    }
   ],
   "source": [
    "print(dsDNA.dna_bonds.head())\n",
    "print(dsDNA.dna_angles.head())\n",
    "print(dsDNA.dna_fan_bonds.head())"
   ]
  },
  {
   "attachments": {},
   "cell_type": "markdown",
   "metadata": {},
   "source": [
    "Now we can build the system and run simulation. We first build an instance of `MOFFMRGModel`, then we append the dsDNA parser instance into it and set up the simulation. "
   ]
  },
  {
   "cell_type": "code",
   "execution_count": 4,
   "metadata": {},
   "outputs": [
    {
     "name": "stdout",
     "output_type": "stream",
     "text": [
      "Add DNA bonds.\n",
      "Add DNA angles.\n",
      "Add DNA fan bonds.\n",
      "Add protein and DNA nonbonded contacts.\n",
      "Add protein and DNA electrostatic interactions with distance-dependent dielectric and switch.\n",
      "Do not add electrostatic interactions between native pair atoms.\n",
      "Use platform: CPU\n",
      "#\"Step\",\"Time (ps)\",\"Potential Energy (kJ/mole)\",\"Kinetic Energy (kJ/mole)\",\"Total Energy (kJ/mole)\",\"Temperature (K)\",\"Speed (ns/day)\"\n",
      "100,1.0000000000000007,1898.9720763569103,575.3634517178399,2474.33552807475,115.62291953820623,0\n",
      "200,2.0000000000000013,1690.7591174084237,1051.6946997471227,2742.4538171555464,211.34469227157754,96.7\n",
      "300,2.99999999999998,1742.780496750161,1330.3987006799236,3073.179197430085,267.35202151471555,92.3\n",
      "400,3.9999999999999587,2104.001572169435,1306.2159847471128,3410.2175569165474,262.49235201334807,90.7\n",
      "500,4.999999999999938,2251.1798749704176,1468.0525100325485,3719.232385002966,295.0144239064325,91.4\n"
     ]
    }
   ],
   "source": [
    "dna = MOFFMRGModel()\n",
    "dna.append_mol(dsDNA)\n",
    "top = app.PDBFile('MRG_dsDNA.pdb').getTopology()\n",
    "dna.create_system(top)\n",
    "salt_concentration = 100*unit.millimolar\n",
    "temperature = 300*unit.kelvin\n",
    "dna.add_dna_bonds(force_group=1)\n",
    "dna.add_dna_angles(force_group=2)\n",
    "dna.add_dna_fan_bonds(force_group=3)\n",
    "dna.add_contacts(force_group=4)\n",
    "dna.add_elec_switch(salt_concentration, temperature, force_group=5) # electrostatic interaction depends on salt concentration and temperature\n",
    "dna.save_system('dsDNA.xml')\n",
    "collision = 1/unit.picosecond\n",
    "timestep = 10*unit.femtosecond\n",
    "integrator = mm.NoseHooverIntegrator(temperature, collision, timestep)\n",
    "platform_name = 'CPU'\n",
    "init_coord = app.PDBFile('MRG_dsDNA.pdb').getPositions()\n",
    "dna.set_simulation(integrator, platform_name, init_coord=init_coord)\n",
    "dna.simulation.minimizeEnergy()\n",
    "output_interval = 100\n",
    "output_dcd = 'output.dcd'\n",
    "dna.add_reporters(output_interval, output_dcd)\n",
    "dna.simulation.context.setVelocitiesToTemperature(temperature)\n",
    "dna.simulation.step(500)\n"
   ]
  }
 ],
 "metadata": {
  "kernelspec": {
   "display_name": "py38",
   "language": "python",
   "name": "python3"
  },
  "language_info": {
   "codemirror_mode": {
    "name": "ipython",
    "version": 3
   },
   "file_extension": ".py",
   "mimetype": "text/x-python",
   "name": "python",
   "nbconvert_exporter": "python",
   "pygments_lexer": "ipython3",
   "version": "3.8.13"
  },
  "orig_nbformat": 4,
  "vscode": {
   "interpreter": {
    "hash": "95d07581651f3c45a5651aa035df7e4a83b5587ddccf2e46662da40695cb8d28"
   }
  }
 },
 "nbformat": 4,
 "nbformat_minor": 2
}
