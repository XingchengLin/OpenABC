{
 "cells": [
  {
   "attachments": {},
   "cell_type": "markdown",
   "metadata": {},
   "source": [
    "# Tutorial for HP1alpha dimer and dsDNA"
   ]
  },
  {
   "cell_type": "code",
   "execution_count": null,
   "metadata": {},
   "outputs": [],
   "source": [
    "import sys\n",
    "sys.path.append('../..')\n",
    "\n",
    "import numpy as np\n",
    "import pandas as pd\n",
    "from openabc.forcefields.parsers import MOFFParser, MRGdsDNAParser\n",
    "from openabc.forcefields import MOFFMRGModel\n",
    "from openabc.utils.insert import insert_molecules\n",
    "import os\n",
    "import mdtraj\n",
    "\n",
    "try:\n",
    "    import openmm as mm\n",
    "    import openmm.app as app\n",
    "    import openmm.unit as unit\n",
    "except ImportError:\n",
    "    import simtk.openmm as mm\n",
    "    import simtk.openmm.app as app\n",
    "    import simtk.unit as unit\n",
    "\n",
    "# set simulation platform\n",
    "platform_name = 'CPU'"
   ]
  },
  {
   "attachments": {},
   "cell_type": "markdown",
   "metadata": {},
   "source": [
    "We show the tutorial of how to run simulation for a system including n1 HP1alpha dimers and n2 dsDNA with MOFF. For simplicity, here we set both n1 and n2 as 5. "
   ]
  },
  {
   "cell_type": "code",
   "execution_count": null,
   "metadata": {},
   "outputs": [],
   "source": [
    "# parse atomistic structure protein_AA.pdb and dsDNA_AA.pdb\n",
    "hp1alpha_dimer_parser = MOFFParser.from_atomistic_pdb('input-pdb/hp1a.pdb', 'hp1alpha_dimer_CA.pdb')\n",
    "dsDNA_parser = MRGdsDNAParser.from_atomistic_pdb('input-pdb/all_atom_200bpDNA.pdb', 'dsDNA_CG.pdb')"
   ]
  },
  {
   "cell_type": "code",
   "execution_count": null,
   "metadata": {},
   "outputs": [],
   "source": [
    "# remove native pairs with atoms in disordered regions\n",
    "old_native_pairs = hp1alpha_dimer_parser.native_pairs.copy()\n",
    "new_native_pairs = pd.DataFrame(columns=old_native_pairs.columns)\n",
    "cd1 = np.arange(16, 72)\n",
    "csd1 = np.arange(114, 176)\n",
    "n_atoms_per_hp1alpha_dimer = len(hp1alpha_dimer_parser.atoms.index)\n",
    "print(f'There are {n_atoms_per_hp1alpha_dimer} CA atoms in each HP1alpha dimer.')\n",
    "cd2 = cd1 + int(n_atoms_per_hp1alpha_dimer/2)\n",
    "csd2 = csd1 + int(n_atoms_per_hp1alpha_dimer/2)\n",
    "for i, row in old_native_pairs.iterrows():\n",
    "    a1, a2 = int(row['a1']), int(row['a2'])\n",
    "    if a1 > a2:\n",
    "        a1, a2 = a2, a1\n",
    "    flag1 = ((a1 in cd1) and (a2 in cd1)) or ((a1 in csd1) and (a2 in csd1))\n",
    "    flag2 = ((a1 in cd2) and (a2 in cd2)) or ((a1 in csd2) and (a2 in csd2))\n",
    "    flag3 = ((a1 in csd1) and (a2 in csd2))\n",
    "    if flag1 or flag2 or flag3:\n",
    "        new_native_pairs.loc[len(new_native_pairs.index)] = row\n",
    "hp1alpha_dimer_parser.native_pairs = new_native_pairs\n",
    "hp1alpha_dimer_parser.parse_exclusions() # update exclusions based on the new native pairs"
   ]
  },
  {
   "cell_type": "code",
   "execution_count": null,
   "metadata": {},
   "outputs": [],
   "source": [
    "# prepare initial configuration with n1 proteins and n2 dsDNA\n",
    "a, b, c = 100, 100, 100\n",
    "n1, n2 = 2, 2\n",
    "if not os.path.exists('start.pdb'):\n",
    "    insert_molecules('hp1alpha_dimer_CA.pdb', 'tmp.pdb', n_mol=n1, box=[a, b, c])\n",
    "    insert_molecules('dsDNA_CG.pdb', 'start.pdb', n_mol=n2, existing_pdb='tmp.pdb', box=[a, b, c])\n"
   ]
  },
  {
   "cell_type": "code",
   "execution_count": null,
   "metadata": {},
   "outputs": [],
   "source": [
    "protein_dna = MOFFMRGModel()\n",
    "for i in range(n1):\n",
    "    protein_dna.append_mol(hp1alpha_dimer_parser)\n",
    "for i in range(n2):\n",
    "    protein_dna.append_mol(dsDNA_parser)\n",
    "protein_dna.native_pairs.loc[:, 'epsilon'] = 6.0\n",
    "top = app.PDBFile('start.pdb').getTopology()\n",
    "protein_dna.create_system(top)\n",
    "salt_conc = 82*unit.millimolar\n",
    "temperature = 300*unit.kelvin\n",
    "protein_dna.add_protein_bonds(force_group=1)\n",
    "protein_dna.add_protein_angles(force_group=2, verbose=False)\n",
    "protein_dna.add_protein_dihedrals(force_group=3)\n",
    "protein_dna.add_native_pairs(force_group=4)\n",
    "protein_dna.add_dna_bonds(force_group=5)\n",
    "protein_dna.add_dna_angles(force_group=6)\n",
    "protein_dna.add_dna_fan_bonds(force_group=7)\n",
    "protein_dna.add_contacts(force_group=8)\n",
    "protein_dna.add_elec_switch(salt_conc, temperature, force_group=9)\n",
    "protein_dna.save_system('system.xml')\n",
    "friction_coeff = 0.01/unit.picosecond # use small friction coefficient to accelerate dynamics\n",
    "timestep = 10*unit.femtosecond\n",
    "integrator = mm.LangevinMiddleIntegrator(temperature, friction_coeff, timestep)\n",
    "init_coord = app.PDBFile('start.pdb').getPositions()\n",
    "protein_dna.set_simulation(integrator, platform_name, init_coord=init_coord)\n",
    "protein_dna.simulation.minimizeEnergy()\n",
    "output_interval = 100\n",
    "output_dcd = 'output.dcd'\n",
    "protein_dna.add_reporters(output_interval, output_dcd)\n",
    "protein_dna.simulation.context.setVelocitiesToTemperature(temperature)\n",
    "protein_dna.simulation.step(500)"
   ]
  }
 ],
 "metadata": {
  "kernelspec": {
   "display_name": "Python [conda env:.conda-py39]",
   "language": "python",
   "name": "conda-env-.conda-py39-py"
  },
  "language_info": {
   "codemirror_mode": {
    "name": "ipython",
    "version": 3
   },
   "file_extension": ".py",
   "mimetype": "text/x-python",
   "name": "python",
   "nbconvert_exporter": "python",
   "pygments_lexer": "ipython3",
   "version": "3.9.16"
  },
  "vscode": {
   "interpreter": {
    "hash": "95d07581651f3c45a5651aa035df7e4a83b5587ddccf2e46662da40695cb8d28"
   }
  }
 },
 "nbformat": 4,
 "nbformat_minor": 4
}
