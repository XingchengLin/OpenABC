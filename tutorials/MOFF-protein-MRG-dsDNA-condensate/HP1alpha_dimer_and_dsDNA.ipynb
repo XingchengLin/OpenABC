{
 "cells": [
  {
   "cell_type": "markdown",
   "metadata": {},
   "source": [
    "# Tutorial for HP1alpha dimer and dsDNA"
   ]
  },
  {
   "cell_type": "code",
   "execution_count": 1,
   "metadata": {},
   "outputs": [
    {
     "data": {
      "application/vnd.jupyter.widget-view+json": {
       "model_id": "5c9ab9e66c1c4205b6a9453105533526",
       "version_major": 2,
       "version_minor": 0
      },
      "text/plain": []
     },
     "metadata": {},
     "output_type": "display_data"
    }
   ],
   "source": [
    "import sys\n",
    "sys.path.append('../..')\n",
    "\n",
    "import numpy as np\n",
    "import pandas as pd\n",
    "from openabc.forcefields.parsers import MOFFParser, MRGdsDNAParser\n",
    "from openabc.forcefields import MOFFMRGModel\n",
    "from openabc.utils.insert import insert_molecules\n",
    "import os\n",
    "import mdtraj\n",
    "\n",
    "try:\n",
    "    import openmm as mm\n",
    "    import openmm.app as app\n",
    "    import openmm.unit as unit\n",
    "except ImportError:\n",
    "    import simtk.openmm as mm\n",
    "    import simtk.openmm.app as app\n",
    "    import simtk.unit as unit\n",
    "\n",
    "# set simulation platform\n",
    "platform_name = 'CPU'"
   ]
  },
  {
   "cell_type": "markdown",
   "metadata": {},
   "source": [
    "We show the tutorial of how to run simulation for a system including n1 HP1alpha dimers and n2 dsDNA with MOFF. For simplicity, here we set both n1 and n2 as 5. "
   ]
  },
  {
   "cell_type": "code",
   "execution_count": 2,
   "metadata": {},
   "outputs": [
    {
     "name": "stdout",
     "output_type": "stream",
     "text": [
      "Parse molecule with default settings.\n",
      "Get native pairs with shadow algorithm.\n",
      "Parse molecule with default settings.\n"
     ]
    }
   ],
   "source": [
    "# parse atomistic structure protein_AA.pdb and dsDNA_AA.pdb\n",
    "hp1alpha_dimer_parser = MOFFParser.from_atomistic_pdb('input-pdb/hp1a.pdb', 'hp1alpha_dimer_CA.pdb')\n",
    "dsDNA_parser = MRGdsDNAParser.from_atomistic_pdb('input-pdb/all_atom_200bpDNA.pdb', 'dsDNA_CG.pdb')"
   ]
  },
  {
   "cell_type": "code",
   "execution_count": 3,
   "metadata": {},
   "outputs": [
    {
     "name": "stdout",
     "output_type": "stream",
     "text": [
      "There are 382 CA atoms in each HP1alpha dimer.\n"
     ]
    }
   ],
   "source": [
    "# remove native pairs with atoms in disordered regions\n",
    "old_native_pairs = hp1alpha_dimer_parser.native_pairs.copy()\n",
    "new_native_pairs = pd.DataFrame(columns=old_native_pairs.columns)\n",
    "cd1 = np.arange(16, 72)\n",
    "csd1 = np.arange(114, 176)\n",
    "n_atoms_per_hp1alpha_dimer = len(hp1alpha_dimer_parser.atoms.index)\n",
    "print(f'There are {n_atoms_per_hp1alpha_dimer} CA atoms in each HP1alpha dimer.')\n",
    "cd2 = cd1 + int(n_atoms_per_hp1alpha_dimer/2)\n",
    "csd2 = csd1 + int(n_atoms_per_hp1alpha_dimer/2)\n",
    "for i, row in old_native_pairs.iterrows():\n",
    "    a1, a2 = int(row['a1']), int(row['a2'])\n",
    "    if a1 > a2:\n",
    "        a1, a2 = a2, a1\n",
    "    flag1 = ((a1 in cd1) and (a2 in cd1)) or ((a1 in csd1) and (a2 in csd1))\n",
    "    flag2 = ((a1 in cd2) and (a2 in cd2)) or ((a1 in csd2) and (a2 in csd2))\n",
    "    flag3 = ((a1 in csd1) and (a2 in csd2))\n",
    "    if flag1 or flag2 or flag3:\n",
    "        new_native_pairs.loc[len(new_native_pairs.index)] = row\n",
    "hp1alpha_dimer_parser.native_pairs = new_native_pairs\n",
    "hp1alpha_dimer_parser.parse_exclusions() # update exclusions based on the new native pairs"
   ]
  },
  {
   "cell_type": "code",
   "execution_count": 4,
   "metadata": {},
   "outputs": [
    {
     "name": "stdout",
     "output_type": "stream",
     "text": [
      "Check contact with FastNS method. \n",
      "Successfully inserted 2 molecules.\n",
      "Check contact with FastNS method. \n",
      "Successfully inserted 2 molecules.\n"
     ]
    }
   ],
   "source": [
    "# prepare initial configuration with n1 proteins and n2 dsDNA\n",
    "a, b, c = 100, 100, 100\n",
    "n1, n2 = 2, 2\n",
    "if not os.path.exists('start.pdb'):\n",
    "    insert_molecules('hp1alpha_dimer_CA.pdb', 'tmp.pdb', n_mol=n1, box=[a, b, c])\n",
    "    insert_molecules('dsDNA_CG.pdb', 'start.pdb', n_mol=n2, existing_pdb='tmp.pdb', box=[a, b, c])\n"
   ]
  },
  {
   "cell_type": "code",
   "execution_count": 5,
   "metadata": {},
   "outputs": [
    {
     "name": "stdout",
     "output_type": "stream",
     "text": [
      "Add protein bonds.\n",
      "Warning: angle composed of atom (1, 2, 3) has theta0 equal to 2.271120309829712, which is larger than the threshold value equal to 2.2689280275926285!\n",
      "Warning: angle composed of atom (4, 5, 6) has theta0 equal to 2.3717265129089355, which is larger than the threshold value equal to 2.2689280275926285!\n",
      "Warning: angle composed of atom (7, 8, 9) has theta0 equal to 2.404282569885254, which is larger than the threshold value equal to 2.2689280275926285!\n",
      "Warning: angle composed of atom (9, 10, 11) has theta0 equal to 2.4638004302978516, which is larger than the threshold value equal to 2.2689280275926285!\n",
      "Warning: angle composed of atom (15, 16, 17) has theta0 equal to 2.541534185409546, which is larger than the threshold value equal to 2.2689280275926285!\n",
      "Warning: angle composed of atom (17, 18, 19) has theta0 equal to 2.5139076709747314, which is larger than the threshold value equal to 2.2689280275926285!\n",
      "Warning: angle composed of atom (19, 20, 21) has theta0 equal to 2.2893664836883545, which is larger than the threshold value equal to 2.2689280275926285!\n",
      "Warning: angle composed of atom (22, 23, 24) has theta0 equal to 2.533906936645508, which is larger than the threshold value equal to 2.2689280275926285!\n",
      "Warning: angle composed of atom (25, 26, 27) has theta0 equal to 2.5470705032348633, which is larger than the threshold value equal to 2.2689280275926285!\n",
      "Warning: angle composed of atom (26, 27, 28) has theta0 equal to 2.312490940093994, which is larger than the threshold value equal to 2.2689280275926285!\n",
      "Warning: angle composed of atom (27, 28, 29) has theta0 equal to 2.4959754943847656, which is larger than the threshold value equal to 2.2689280275926285!\n",
      "Warning: angle composed of atom (28, 29, 30) has theta0 equal to 2.2786426544189453, which is larger than the threshold value equal to 2.2689280275926285!\n",
      "Warning: angle composed of atom (29, 30, 31) has theta0 equal to 2.3516759872436523, which is larger than the threshold value equal to 2.2689280275926285!\n",
      "Warning: angle composed of atom (35, 36, 37) has theta0 equal to 2.286816120147705, which is larger than the threshold value equal to 2.2689280275926285!\n",
      "Warning: angle composed of atom (42, 43, 44) has theta0 equal to 2.5148558616638184, which is larger than the threshold value equal to 2.2689280275926285!\n",
      "Warning: angle composed of atom (43, 44, 45) has theta0 equal to 2.3267335891723633, which is larger than the threshold value equal to 2.2689280275926285!\n",
      "Warning: angle composed of atom (48, 49, 50) has theta0 equal to 2.2932353019714355, which is larger than the threshold value equal to 2.2689280275926285!\n",
      "Warning: angle composed of atom (50, 51, 52) has theta0 equal to 2.4005579948425293, which is larger than the threshold value equal to 2.2689280275926285!\n",
      "Warning: angle composed of atom (75, 76, 77) has theta0 equal to 2.5604758262634277, which is larger than the threshold value equal to 2.2689280275926285!\n",
      "Warning: angle composed of atom (84, 85, 86) has theta0 equal to 2.398739814758301, which is larger than the threshold value equal to 2.2689280275926285!\n",
      "Warning: angle composed of atom (89, 90, 91) has theta0 equal to 2.3089566230773926, which is larger than the threshold value equal to 2.2689280275926285!\n",
      "Warning: angle composed of atom (95, 96, 97) has theta0 equal to 2.3222670555114746, which is larger than the threshold value equal to 2.2689280275926285!\n",
      "Warning: angle composed of atom (101, 102, 103) has theta0 equal to 2.284329414367676, which is larger than the threshold value equal to 2.2689280275926285!\n",
      "Warning: angle composed of atom (113, 114, 115) has theta0 equal to 2.2796645164489746, which is larger than the threshold value equal to 2.2689280275926285!\n",
      "Warning: angle composed of atom (123, 124, 125) has theta0 equal to 2.5085532665252686, which is larger than the threshold value equal to 2.2689280275926285!\n",
      "Warning: angle composed of atom (126, 127, 128) has theta0 equal to 2.5340840816497803, which is larger than the threshold value equal to 2.2689280275926285!\n",
      "Warning: angle composed of atom (127, 128, 129) has theta0 equal to 2.349975109100342, which is larger than the threshold value equal to 2.2689280275926285!\n",
      "Warning: angle composed of atom (128, 129, 130) has theta0 equal to 2.4418365955352783, which is larger than the threshold value equal to 2.2689280275926285!\n",
      "Warning: angle composed of atom (140, 141, 142) has theta0 equal to 2.3184213638305664, which is larger than the threshold value equal to 2.2689280275926285!\n",
      "Warning: angle composed of atom (147, 148, 149) has theta0 equal to 2.301426649093628, which is larger than the threshold value equal to 2.2689280275926285!\n",
      "Warning: angle composed of atom (149, 150, 151) has theta0 equal to 2.311504364013672, which is larger than the threshold value equal to 2.2689280275926285!\n",
      "Warning: angle composed of atom (183, 184, 185) has theta0 equal to 2.336792230606079, which is larger than the threshold value equal to 2.2689280275926285!\n",
      "Warning: angle composed of atom (192, 193, 194) has theta0 equal to 2.271170139312744, which is larger than the threshold value equal to 2.2689280275926285!\n",
      "Warning: angle composed of atom (195, 196, 197) has theta0 equal to 2.3715498447418213, which is larger than the threshold value equal to 2.2689280275926285!\n",
      "Warning: angle composed of atom (198, 199, 200) has theta0 equal to 2.404168128967285, which is larger than the threshold value equal to 2.2689280275926285!\n",
      "Warning: angle composed of atom (200, 201, 202) has theta0 equal to 2.464022159576416, which is larger than the threshold value equal to 2.2689280275926285!\n",
      "Warning: angle composed of atom (206, 207, 208) has theta0 equal to 2.541806697845459, which is larger than the threshold value equal to 2.2689280275926285!\n",
      "Warning: angle composed of atom (208, 209, 210) has theta0 equal to 2.51389741897583, which is larger than the threshold value equal to 2.2689280275926285!\n",
      "Warning: angle composed of atom (210, 211, 212) has theta0 equal to 2.2896060943603516, which is larger than the threshold value equal to 2.2689280275926285!\n",
      "Warning: angle composed of atom (213, 214, 215) has theta0 equal to 2.533395290374756, which is larger than the threshold value equal to 2.2689280275926285!\n",
      "Warning: angle composed of atom (216, 217, 218) has theta0 equal to 2.547632932662964, which is larger than the threshold value equal to 2.2689280275926285!\n",
      "Warning: angle composed of atom (217, 218, 219) has theta0 equal to 2.312903881072998, which is larger than the threshold value equal to 2.2689280275926285!\n",
      "Warning: angle composed of atom (218, 219, 220) has theta0 equal to 2.4963464736938477, which is larger than the threshold value equal to 2.2689280275926285!\n",
      "Warning: angle composed of atom (219, 220, 221) has theta0 equal to 2.2786951065063477, which is larger than the threshold value equal to 2.2689280275926285!\n",
      "Warning: angle composed of atom (220, 221, 222) has theta0 equal to 2.3515825271606445, which is larger than the threshold value equal to 2.2689280275926285!\n",
      "Warning: angle composed of atom (226, 227, 228) has theta0 equal to 2.286383867263794, which is larger than the threshold value equal to 2.2689280275926285!\n",
      "Warning: angle composed of atom (233, 234, 235) has theta0 equal to 2.5150036811828613, which is larger than the threshold value equal to 2.2689280275926285!\n",
      "Warning: angle composed of atom (234, 235, 236) has theta0 equal to 2.326620101928711, which is larger than the threshold value equal to 2.2689280275926285!\n",
      "Warning: angle composed of atom (239, 240, 241) has theta0 equal to 2.2930967807769775, which is larger than the threshold value equal to 2.2689280275926285!\n",
      "Warning: angle composed of atom (241, 242, 243) has theta0 equal to 2.40047287940979, which is larger than the threshold value equal to 2.2689280275926285!\n",
      "Warning: angle composed of atom (266, 267, 268) has theta0 equal to 2.5606913566589355, which is larger than the threshold value equal to 2.2689280275926285!\n",
      "Warning: angle composed of atom (275, 276, 277) has theta0 equal to 2.3991587162017822, which is larger than the threshold value equal to 2.2689280275926285!\n",
      "Warning: angle composed of atom (280, 281, 282) has theta0 equal to 2.308898448944092, which is larger than the threshold value equal to 2.2689280275926285!\n",
      "Warning: angle composed of atom (286, 287, 288) has theta0 equal to 2.3220129013061523, which is larger than the threshold value equal to 2.2689280275926285!\n",
      "Warning: angle composed of atom (292, 293, 294) has theta0 equal to 2.2843289375305176, which is larger than the threshold value equal to 2.2689280275926285!\n",
      "Warning: angle composed of atom (304, 305, 306) has theta0 equal to 2.279568910598755, which is larger than the threshold value equal to 2.2689280275926285!\n",
      "Warning: angle composed of atom (314, 315, 316) has theta0 equal to 2.50836181640625, which is larger than the threshold value equal to 2.2689280275926285!\n",
      "Warning: angle composed of atom (317, 318, 319) has theta0 equal to 2.5341267585754395, which is larger than the threshold value equal to 2.2689280275926285!\n",
      "Warning: angle composed of atom (318, 319, 320) has theta0 equal to 2.349658489227295, which is larger than the threshold value equal to 2.2689280275926285!\n",
      "Warning: angle composed of atom (319, 320, 321) has theta0 equal to 2.441474199295044, which is larger than the threshold value equal to 2.2689280275926285!\n",
      "Warning: angle composed of atom (331, 332, 333) has theta0 equal to 2.318450927734375, which is larger than the threshold value equal to 2.2689280275926285!\n",
      "Warning: angle composed of atom (338, 339, 340) has theta0 equal to 2.301187753677368, which is larger than the threshold value equal to 2.2689280275926285!\n",
      "Warning: angle composed of atom (340, 341, 342) has theta0 equal to 2.3116753101348877, which is larger than the threshold value equal to 2.2689280275926285!\n",
      "Warning: angle composed of atom (374, 375, 376) has theta0 equal to 2.3368122577667236, which is larger than the threshold value equal to 2.2689280275926285!\n",
      "Warning: angle composed of atom (383, 384, 385) has theta0 equal to 2.271120309829712, which is larger than the threshold value equal to 2.2689280275926285!\n",
      "Warning: angle composed of atom (386, 387, 388) has theta0 equal to 2.3717265129089355, which is larger than the threshold value equal to 2.2689280275926285!\n",
      "Warning: angle composed of atom (389, 390, 391) has theta0 equal to 2.404282569885254, which is larger than the threshold value equal to 2.2689280275926285!\n",
      "Warning: angle composed of atom (391, 392, 393) has theta0 equal to 2.4638004302978516, which is larger than the threshold value equal to 2.2689280275926285!\n",
      "Warning: angle composed of atom (397, 398, 399) has theta0 equal to 2.541534185409546, which is larger than the threshold value equal to 2.2689280275926285!\n",
      "Warning: angle composed of atom (399, 400, 401) has theta0 equal to 2.5139076709747314, which is larger than the threshold value equal to 2.2689280275926285!\n",
      "Warning: angle composed of atom (401, 402, 403) has theta0 equal to 2.2893664836883545, which is larger than the threshold value equal to 2.2689280275926285!\n",
      "Warning: angle composed of atom (404, 405, 406) has theta0 equal to 2.533906936645508, which is larger than the threshold value equal to 2.2689280275926285!\n",
      "Warning: angle composed of atom (407, 408, 409) has theta0 equal to 2.5470705032348633, which is larger than the threshold value equal to 2.2689280275926285!\n",
      "Warning: angle composed of atom (408, 409, 410) has theta0 equal to 2.312490940093994, which is larger than the threshold value equal to 2.2689280275926285!\n",
      "Warning: angle composed of atom (409, 410, 411) has theta0 equal to 2.4959754943847656, which is larger than the threshold value equal to 2.2689280275926285!\n",
      "Warning: angle composed of atom (410, 411, 412) has theta0 equal to 2.2786426544189453, which is larger than the threshold value equal to 2.2689280275926285!\n",
      "Warning: angle composed of atom (411, 412, 413) has theta0 equal to 2.3516759872436523, which is larger than the threshold value equal to 2.2689280275926285!\n",
      "Warning: angle composed of atom (417, 418, 419) has theta0 equal to 2.286816120147705, which is larger than the threshold value equal to 2.2689280275926285!\n",
      "Warning: angle composed of atom (424, 425, 426) has theta0 equal to 2.5148558616638184, which is larger than the threshold value equal to 2.2689280275926285!\n",
      "Warning: angle composed of atom (425, 426, 427) has theta0 equal to 2.3267335891723633, which is larger than the threshold value equal to 2.2689280275926285!\n",
      "Warning: angle composed of atom (430, 431, 432) has theta0 equal to 2.2932353019714355, which is larger than the threshold value equal to 2.2689280275926285!\n",
      "Warning: angle composed of atom (432, 433, 434) has theta0 equal to 2.4005579948425293, which is larger than the threshold value equal to 2.2689280275926285!\n",
      "Warning: angle composed of atom (457, 458, 459) has theta0 equal to 2.5604758262634277, which is larger than the threshold value equal to 2.2689280275926285!\n",
      "Warning: angle composed of atom (466, 467, 468) has theta0 equal to 2.398739814758301, which is larger than the threshold value equal to 2.2689280275926285!\n",
      "Warning: angle composed of atom (471, 472, 473) has theta0 equal to 2.3089566230773926, which is larger than the threshold value equal to 2.2689280275926285!\n",
      "Warning: angle composed of atom (477, 478, 479) has theta0 equal to 2.3222670555114746, which is larger than the threshold value equal to 2.2689280275926285!\n",
      "Warning: angle composed of atom (483, 484, 485) has theta0 equal to 2.284329414367676, which is larger than the threshold value equal to 2.2689280275926285!\n",
      "Warning: angle composed of atom (495, 496, 497) has theta0 equal to 2.2796645164489746, which is larger than the threshold value equal to 2.2689280275926285!\n",
      "Warning: angle composed of atom (505, 506, 507) has theta0 equal to 2.5085532665252686, which is larger than the threshold value equal to 2.2689280275926285!\n",
      "Warning: angle composed of atom (508, 509, 510) has theta0 equal to 2.5340840816497803, which is larger than the threshold value equal to 2.2689280275926285!\n",
      "Warning: angle composed of atom (509, 510, 511) has theta0 equal to 2.349975109100342, which is larger than the threshold value equal to 2.2689280275926285!\n",
      "Warning: angle composed of atom (510, 511, 512) has theta0 equal to 2.4418365955352783, which is larger than the threshold value equal to 2.2689280275926285!\n",
      "Warning: angle composed of atom (522, 523, 524) has theta0 equal to 2.3184213638305664, which is larger than the threshold value equal to 2.2689280275926285!\n",
      "Warning: angle composed of atom (529, 530, 531) has theta0 equal to 2.301426649093628, which is larger than the threshold value equal to 2.2689280275926285!\n",
      "Warning: angle composed of atom (531, 532, 533) has theta0 equal to 2.311504364013672, which is larger than the threshold value equal to 2.2689280275926285!\n",
      "Warning: angle composed of atom (565, 566, 567) has theta0 equal to 2.336792230606079, which is larger than the threshold value equal to 2.2689280275926285!\n",
      "Warning: angle composed of atom (574, 575, 576) has theta0 equal to 2.271170139312744, which is larger than the threshold value equal to 2.2689280275926285!\n",
      "Warning: angle composed of atom (577, 578, 579) has theta0 equal to 2.3715498447418213, which is larger than the threshold value equal to 2.2689280275926285!\n",
      "Warning: angle composed of atom (580, 581, 582) has theta0 equal to 2.404168128967285, which is larger than the threshold value equal to 2.2689280275926285!\n",
      "Warning: angle composed of atom (582, 583, 584) has theta0 equal to 2.464022159576416, which is larger than the threshold value equal to 2.2689280275926285!\n",
      "Warning: angle composed of atom (588, 589, 590) has theta0 equal to 2.541806697845459, which is larger than the threshold value equal to 2.2689280275926285!\n",
      "Warning: angle composed of atom (590, 591, 592) has theta0 equal to 2.51389741897583, which is larger than the threshold value equal to 2.2689280275926285!\n",
      "Warning: angle composed of atom (592, 593, 594) has theta0 equal to 2.2896060943603516, which is larger than the threshold value equal to 2.2689280275926285!\n",
      "Warning: angle composed of atom (595, 596, 597) has theta0 equal to 2.533395290374756, which is larger than the threshold value equal to 2.2689280275926285!\n",
      "Warning: angle composed of atom (598, 599, 600) has theta0 equal to 2.547632932662964, which is larger than the threshold value equal to 2.2689280275926285!\n",
      "Warning: angle composed of atom (599, 600, 601) has theta0 equal to 2.312903881072998, which is larger than the threshold value equal to 2.2689280275926285!\n",
      "Warning: angle composed of atom (600, 601, 602) has theta0 equal to 2.4963464736938477, which is larger than the threshold value equal to 2.2689280275926285!\n",
      "Warning: angle composed of atom (601, 602, 603) has theta0 equal to 2.2786951065063477, which is larger than the threshold value equal to 2.2689280275926285!\n",
      "Warning: angle composed of atom (602, 603, 604) has theta0 equal to 2.3515825271606445, which is larger than the threshold value equal to 2.2689280275926285!\n",
      "Warning: angle composed of atom (608, 609, 610) has theta0 equal to 2.286383867263794, which is larger than the threshold value equal to 2.2689280275926285!\n",
      "Warning: angle composed of atom (615, 616, 617) has theta0 equal to 2.5150036811828613, which is larger than the threshold value equal to 2.2689280275926285!\n",
      "Warning: angle composed of atom (616, 617, 618) has theta0 equal to 2.326620101928711, which is larger than the threshold value equal to 2.2689280275926285!\n",
      "Warning: angle composed of atom (621, 622, 623) has theta0 equal to 2.2930967807769775, which is larger than the threshold value equal to 2.2689280275926285!\n",
      "Warning: angle composed of atom (623, 624, 625) has theta0 equal to 2.40047287940979, which is larger than the threshold value equal to 2.2689280275926285!\n",
      "Warning: angle composed of atom (648, 649, 650) has theta0 equal to 2.5606913566589355, which is larger than the threshold value equal to 2.2689280275926285!\n",
      "Warning: angle composed of atom (657, 658, 659) has theta0 equal to 2.3991587162017822, which is larger than the threshold value equal to 2.2689280275926285!\n",
      "Warning: angle composed of atom (662, 663, 664) has theta0 equal to 2.308898448944092, which is larger than the threshold value equal to 2.2689280275926285!\n",
      "Warning: angle composed of atom (668, 669, 670) has theta0 equal to 2.3220129013061523, which is larger than the threshold value equal to 2.2689280275926285!\n",
      "Warning: angle composed of atom (674, 675, 676) has theta0 equal to 2.2843289375305176, which is larger than the threshold value equal to 2.2689280275926285!\n",
      "Warning: angle composed of atom (686, 687, 688) has theta0 equal to 2.279568910598755, which is larger than the threshold value equal to 2.2689280275926285!\n",
      "Warning: angle composed of atom (696, 697, 698) has theta0 equal to 2.50836181640625, which is larger than the threshold value equal to 2.2689280275926285!\n",
      "Warning: angle composed of atom (699, 700, 701) has theta0 equal to 2.5341267585754395, which is larger than the threshold value equal to 2.2689280275926285!\n",
      "Warning: angle composed of atom (700, 701, 702) has theta0 equal to 2.349658489227295, which is larger than the threshold value equal to 2.2689280275926285!\n",
      "Warning: angle composed of atom (701, 702, 703) has theta0 equal to 2.441474199295044, which is larger than the threshold value equal to 2.2689280275926285!\n",
      "Warning: angle composed of atom (713, 714, 715) has theta0 equal to 2.318450927734375, which is larger than the threshold value equal to 2.2689280275926285!\n",
      "Warning: angle composed of atom (720, 721, 722) has theta0 equal to 2.301187753677368, which is larger than the threshold value equal to 2.2689280275926285!\n",
      "Warning: angle composed of atom (722, 723, 724) has theta0 equal to 2.3116753101348877, which is larger than the threshold value equal to 2.2689280275926285!\n",
      "Warning: angle composed of atom (756, 757, 758) has theta0 equal to 2.3368122577667236, which is larger than the threshold value equal to 2.2689280275926285!\n",
      "Add protein dihedrals.\n",
      "Add native pairs.\n",
      "Add DNA bonds.\n",
      "Add DNA angles.\n",
      "Add DNA fan bonds.\n",
      "Add protein and DNA nonbonded contacts.\n",
      "Add protein and DNA electrostatic interactions with distance-dependent dielectric and switch.\n",
      "Add electrostatic interactions between native pair atoms.\n",
      "Use platform: CPU\n",
      "#\"Step\",\"Time (ps)\",\"Potential Energy (kJ/mole)\",\"Kinetic Energy (kJ/mole)\",\"Total Energy (kJ/mole)\",\"Temperature (K)\",\"Speed (ns/day)\"\n",
      "100,1.0000000000000007,-1681.5689707830882,2560.3072249341644,878.7382541510763,131.3432201218761,0\n",
      "200,2.0000000000000013,-2264.782596872277,3183.033307674981,918.2507108027044,163.28893670015273,212\n",
      "300,2.99999999999998,-2253.0311889470668,3216.765626984069,963.7344380370023,165.01939755933685,213\n",
      "400,3.9999999999999587,-2090.5013440187918,3118.313450897461,1027.812106878669,159.9688217107476,214\n",
      "500,4.999999999999938,-2053.976342137574,3113.966481896856,1059.9901397592816,159.7458231187235,214\n"
     ]
    }
   ],
   "source": [
    "protein_dna = MOFFMRGModel()\n",
    "for i in range(n1):\n",
    "    protein_dna.append_mol(hp1alpha_dimer_parser)\n",
    "for i in range(n2):\n",
    "    protein_dna.append_mol(dsDNA_parser)\n",
    "protein_dna.native_pairs.loc[:, 'epsilon'] = 6.0\n",
    "top = app.PDBFile('start.pdb').getTopology()\n",
    "protein_dna.create_system(top)\n",
    "salt_conc = 82*unit.millimolar\n",
    "temperature = 300*unit.kelvin\n",
    "protein_dna.add_protein_bonds(force_group=1)\n",
    "protein_dna.add_protein_angles(force_group=2)\n",
    "protein_dna.add_protein_dihedrals(force_group=3)\n",
    "protein_dna.add_native_pairs(force_group=4)\n",
    "protein_dna.add_dna_bonds(force_group=5)\n",
    "protein_dna.add_dna_angles(force_group=6)\n",
    "protein_dna.add_dna_fan_bonds(force_group=7)\n",
    "protein_dna.add_contacts(force_group=8)\n",
    "protein_dna.add_elec_switch(salt_conc, temperature, force_group=9)\n",
    "protein_dna.save_system('system.xml')\n",
    "friction_coeff = 0.01/unit.picosecond # use small friction coefficient to accelerate dynamics\n",
    "timestep = 10*unit.femtosecond\n",
    "integrator = mm.LangevinMiddleIntegrator(temperature, friction_coeff, timestep)\n",
    "init_coord = app.PDBFile('start.pdb').getPositions()\n",
    "protein_dna.set_simulation(integrator, platform_name, init_coord=init_coord)\n",
    "protein_dna.simulation.minimizeEnergy()\n",
    "output_interval = 100\n",
    "output_dcd = 'output.dcd'\n",
    "protein_dna.add_reporters(output_interval, output_dcd)\n",
    "protein_dna.simulation.context.setVelocitiesToTemperature(temperature)\n",
    "protein_dna.simulation.step(500)"
   ]
  }
 ],
 "metadata": {
  "kernelspec": {
   "display_name": "Python [conda env:.conda-py39]",
   "language": "python",
   "name": "conda-env-.conda-py39-py"
  },
  "language_info": {
   "codemirror_mode": {
    "name": "ipython",
    "version": 3
   },
   "file_extension": ".py",
   "mimetype": "text/x-python",
   "name": "python",
   "nbconvert_exporter": "python",
   "pygments_lexer": "ipython3",
   "version": "3.9.16"
  },
  "vscode": {
   "interpreter": {
    "hash": "95d07581651f3c45a5651aa035df7e4a83b5587ddccf2e46662da40695cb8d28"
   }
  }
 },
 "nbformat": 4,
 "nbformat_minor": 4
}
