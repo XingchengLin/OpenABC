{
 "cells": [
  {
   "attachments": {},
   "cell_type": "markdown",
   "metadata": {},
   "source": [
    "# Tutorial for HPS single DDX4 "
   ]
  },
  {
   "cell_type": "code",
   "execution_count": 4,
   "metadata": {},
   "outputs": [],
   "source": [
    "# load packages\n",
    "import numpy as np\n",
    "import pandas as pd\n",
    "import sys\n",
    "import simtk.openmm as mm\n",
    "import simtk.openmm.app as app\n",
    "import simtk.unit as unit\n",
    "\n",
    "sys.path.append('../../')\n",
    "from openabc.forcefields.parsers import HPSParser\n",
    "from openabc.forcefields import HPSModel\n",
    "from openabc.utils.helper_functions import build_straight_CA_chain, write_pdb\n",
    "\n",
    "# set simulation platform\n",
    "platform_name = 'CPU'"
   ]
  },
  {
   "attachments": {},
   "cell_type": "markdown",
   "metadata": {},
   "source": [
    "We simulate a DDX4 protein with HPS model. We begin with building a straight CA atom chain with DDX4 sequence. We use `HPSParser` to parse the CA model."
   ]
  },
  {
   "cell_type": "code",
   "execution_count": 5,
   "metadata": {},
   "outputs": [
    {
     "name": "stdout",
     "output_type": "stream",
     "text": [
      "Parse molecule with default settings.\n"
     ]
    }
   ],
   "source": [
    "sequence = 'MGDEDWEAEINPHMSSYVPIFEKDRYSGENGDNFNRTPASSSEMDDGPSRRDHFMKSGFASGRNFGNRDAGECNKRDNTSTMGGFGVGKSFGNRGFSNSRFEDGDSSGFWRESSNDCEDNPTRNRGFSKRGGYRDGNNSEASGPYRRGGRGSFRGCRGGFGLGSPNNDLDPDECMQRTGGLFGSRRPVLSGTGNGDTSQSRSGSGSERGGYKGLNEEVITGSGKNSWKSEAEGGES'\n",
    "ca_pdb = 'init_DDX4_CA.pdb'\n",
    "ca_atoms = build_straight_CA_chain(sequence, r0=0.38)\n",
    "write_pdb(ca_atoms, ca_pdb)\n",
    "protein_parser = HPSParser(ca_pdb)\n",
    "protein = HPSModel()\n",
    "protein.append_mol(protein_parser)"
   ]
  },
  {
   "attachments": {},
   "cell_type": "markdown",
   "metadata": {},
   "source": [
    "Use the Urry scale optimal parameter ($\\mu=1$ and $\\Delta=0.08$) and run the simulation. "
   ]
  },
  {
   "cell_type": "code",
   "execution_count": 6,
   "metadata": {},
   "outputs": [
    {
     "name": "stdout",
     "output_type": "stream",
     "text": [
      "Add protein bonds.\n",
      "Add nonbonded contacts.\n",
      "Use Urry hydropathy scale.\n",
      "Scale factor mu = 1 and shift delta = 0.08.\n",
      "Add Debye-Huckel electrostatic interactions.\n",
      "Set Debye length as 1 nm.\n",
      "Set water dielectric as 80.0.\n",
      "Use platform: CPU\n",
      "#\"Step\",\"Time (ps)\",\"Potential Energy (kJ/mole)\",\"Kinetic Energy (kJ/mole)\",\"Total Energy (kJ/mole)\",\"Temperature (K)\",\"Speed (ns/day)\"\n",
      "100,1.0000000000000007,379.3185607013869,792.6441529696027,1171.9627136709896,270.4487347191516,0\n",
      "200,2.0000000000000013,468.4140448312897,847.0639991155101,1315.4780439467997,289.0166866539916,173\n",
      "300,2.99999999999998,509.69043220897413,870.3964020494795,1380.0868342584536,296.977659844557,173\n",
      "400,3.9999999999999587,474.5130989053823,833.7631202250751,1308.2762191304573,284.4784511127414,171\n",
      "500,4.999999999999938,545.9345976693331,838.5210769900932,1384.4556746594262,286.1018572554937,165\n"
     ]
    }
   ],
   "source": [
    "top = app.PDBFile(ca_pdb).getTopology()\n",
    "init_coord = app.PDBFile(ca_pdb).getPositions()\n",
    "protein.create_system(top)\n",
    "protein.add_protein_bonds(force_group=1)\n",
    "protein.add_contacts('Urry', mu=1, delta=0.08, force_group=2)\n",
    "protein.add_dh_elec(force_group=3)\n",
    "temperature = 300*unit.kelvin\n",
    "friction_coeff = 1/unit.picosecond\n",
    "timestep = 10*unit.femtosecond\n",
    "integrator = mm.LangevinMiddleIntegrator(temperature, friction_coeff, timestep)\n",
    "platform_name = 'CPU'\n",
    "protein.set_simulation(integrator, platform_name, init_coord=init_coord)\n",
    "protein.simulation.minimizeEnergy()\n",
    "output_interval = 100\n",
    "output_dcd = 'output_single_DDX4.dcd'\n",
    "protein.add_reporters(output_interval, output_dcd)\n",
    "protein.simulation.context.setVelocitiesToTemperature(temperature)\n",
    "protein.simulation.step(500)"
   ]
  }
 ],
 "metadata": {
  "kernelspec": {
   "display_name": "py38",
   "language": "python",
   "name": "python3"
  },
  "language_info": {
   "codemirror_mode": {
    "name": "ipython",
    "version": 3
   },
   "file_extension": ".py",
   "mimetype": "text/x-python",
   "name": "python",
   "nbconvert_exporter": "python",
   "pygments_lexer": "ipython3",
   "version": "3.8.13"
  },
  "orig_nbformat": 4,
  "vscode": {
   "interpreter": {
    "hash": "95d07581651f3c45a5651aa035df7e4a83b5587ddccf2e46662da40695cb8d28"
   }
  }
 },
 "nbformat": 4,
 "nbformat_minor": 2
}
