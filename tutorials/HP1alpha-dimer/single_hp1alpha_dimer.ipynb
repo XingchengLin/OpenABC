{
 "cells": [
  {
   "attachments": {},
   "cell_type": "markdown",
   "metadata": {},
   "source": [
    "# Tutorial for MOFF single HP1alpha dimer simulation."
   ]
  },
  {
   "cell_type": "code",
   "execution_count": 1,
   "metadata": {},
   "outputs": [],
   "source": [
    "# load packages\n",
    "import numpy as np\n",
    "import pandas as pd\n",
    "import sys\n",
    "import simtk.openmm as mm\n",
    "import simtk.openmm.app as app\n",
    "import simtk.unit as unit\n",
    "\n",
    "sys.path.append('../../')\n",
    "from openabc.forcefields.parsers import MOFFParser\n",
    "from openabc.forcefields import MOFFMRGModel\n",
    "\n",
    "# set simulation platform\n",
    "platform_name = 'CPU'"
   ]
  },
  {
   "attachments": {},
   "cell_type": "markdown",
   "metadata": {},
   "source": [
    "We simulate a single HP1alpha dimer with MOFF force field. We start from the atomistic model (hp1a.pdb) to build the CA model and apply MOFF force field. For your reference, we also provide hp1a.itp file, which is the GROMACS topology file. "
   ]
  },
  {
   "cell_type": "code",
   "execution_count": 2,
   "metadata": {},
   "outputs": [
    {
     "name": "stdout",
     "output_type": "stream",
     "text": [
      "Parse molecule with default settings.\n",
      "Get native pairs with shadow algorithm.\n"
     ]
    }
   ],
   "source": [
    "hp1alpha_dimer_parser = MOFFParser.from_atomistic_pdb('hp1a.pdb', 'hp1alpha_dimer_CA.pdb')"
   ]
  },
  {
   "cell_type": "markdown",
   "metadata": {},
   "source": [
    "As shadow algorithm will find redundnat native pairs within disordered domains, we need to remove those redundant pairs. We only keep native pairs within CD, CSD, or between two CSDs. The CD domain is 17-72, and CSD domain is 115-176 (here indices start from 1), and there are 191 residues in each chain."
   ]
  },
  {
   "cell_type": "code",
   "execution_count": 3,
   "metadata": {},
   "outputs": [
    {
     "name": "stdout",
     "output_type": "stream",
     "text": [
      "There are 382 CA atoms in each HP1alpha dimer.\n"
     ]
    }
   ],
   "source": [
    "old_native_pairs = hp1alpha_dimer_parser.native_pairs.copy()\n",
    "new_native_pairs = pd.DataFrame(columns=old_native_pairs.columns)\n",
    "cd1 = np.arange(16, 72)\n",
    "csd1 = np.arange(114, 176)\n",
    "n_atoms_per_hp1alpha_dimer = len(hp1alpha_dimer_parser.atoms.index)\n",
    "print(f'There are {n_atoms_per_hp1alpha_dimer} CA atoms in each HP1alpha dimer.')\n",
    "cd2 = cd1 + int(n_atoms_per_hp1alpha_dimer/2)\n",
    "csd2 = csd1 + int(n_atoms_per_hp1alpha_dimer/2)\n",
    "for i, row in old_native_pairs.iterrows():\n",
    "    a1, a2 = int(row['a1']), int(row['a2'])\n",
    "    if a1 > a2:\n",
    "        a1, a2 = a2, a1\n",
    "    flag1 = ((a1 in cd1) and (a2 in cd1)) or ((a1 in csd1) and (a2 in csd1))\n",
    "    flag2 = ((a1 in cd2) and (a2 in cd2)) or ((a1 in csd2) and (a2 in csd2))\n",
    "    flag3 = ((a1 in csd1) and (a2 in csd2))\n",
    "    if flag1 or flag2 or flag3:\n",
    "        new_native_pairs.loc[len(new_native_pairs.index)] = row\n",
    "hp1alpha_dimer_parser.native_pairs = new_native_pairs\n",
    "hp1alpha_dimer_parser.parse_exclusions() # update exclusions based on the new native pairs"
   ]
  },
  {
   "attachments": {},
   "cell_type": "markdown",
   "metadata": {},
   "source": [
    "We can read the bonded interactin parameters, which are pandas dataframes set as attributes of `hp1alpha_dimer_parser`. \n",
    "\n",
    "We print the first 5 rows of protein bonds, angles, dihedrals, and native pairs to take a look."
   ]
  },
  {
   "cell_type": "code",
   "execution_count": 4,
   "metadata": {},
   "outputs": [
    {
     "name": "stdout",
     "output_type": "stream",
     "text": [
      "   a1  a2    r0  k_bond\n",
      "0   0   1  0.38    1000\n",
      "1   1   2  0.38    1000\n",
      "2   2   3  0.38    1000\n",
      "3   3   4  0.38    1000\n",
      "4   4   5  0.38    1000\n",
      "   a1  a2  a3    theta0  k_angle\n",
      "0   0   1   2  1.994760      120\n",
      "1   1   2   3  2.271120      120\n",
      "2   2   3   4  2.179586      120\n",
      "3   3   4   5  1.924860      120\n",
      "4   4   5   6  2.371727      120\n",
      "    a1   a2   a3   a4  periodicity      phi0  k_dihedral\n",
      "0  0.0  1.0  2.0  3.0          1.0  0.653916         3.0\n",
      "1  0.0  1.0  2.0  3.0          3.0  1.961747         1.5\n",
      "2  1.0  2.0  3.0  4.0          1.0  0.320945         3.0\n",
      "3  1.0  2.0  3.0  4.0          3.0  0.962834         1.5\n",
      "4  2.0  3.0  4.0  5.0          1.0  0.887062         3.0\n",
      "     a1    a2        mu  epsilon\n",
      "0  18.0  41.0  0.812619      3.0\n",
      "1  18.0  42.0  0.751187      3.0\n",
      "2  19.0  40.0  0.576995      3.0\n",
      "3  19.0  41.0  0.518028      3.0\n",
      "4  19.0  42.0  0.549097      3.0\n"
     ]
    }
   ],
   "source": [
    "print(hp1alpha_dimer_parser.protein_bonds.head())\n",
    "print(hp1alpha_dimer_parser.protein_angles.head())\n",
    "print(hp1alpha_dimer_parser.protein_dihedrals.head())\n",
    "print(hp1alpha_dimer_parser.native_pairs.head())"
   ]
  },
  {
   "attachments": {},
   "cell_type": "markdown",
   "metadata": {},
   "source": [
    "Now we can do the simulation. We append `hp1alpha_dimer_parser` to `protein`, and object `protein` includes `protein_bonds`, `protein_angles`, `protein_dihedrals`, and `native_pairs` as attributes. Note we use stronger native pairs (epsilon = 6.0 instead of 3.0). We directly change the epsilon parameter in `protein.native_pairs`. "
   ]
  },
  {
   "cell_type": "code",
   "execution_count": 5,
   "metadata": {},
   "outputs": [
    {
     "name": "stdout",
     "output_type": "stream",
     "text": [
      "Add protein bonds.\n",
      "Add protein angles.\n",
      "Add protein dihedrals.\n",
      "Add native pairs.\n",
      "Add protein and DNA nonbonded contacts.\n",
      "Add protein and DNA electrostatic interactions with distance-dependent dielectric and switch.\n",
      "Add electrostatic interactions between native pair atoms.\n",
      "Use platform: CPU\n",
      "#\"Step\",\"Time (ps)\",\"Potential Energy (kJ/mole)\",\"Kinetic Energy (kJ/mole)\",\"Total Energy (kJ/mole)\",\"Temperature (K)\",\"Speed (ns/day)\"\n",
      "100,1.0000000000000007,-2385.444743123625,1232.123350914234,-1153.321392209391,259.3007473623624,0\n",
      "200,2.0000000000000013,-2137.909335851746,1275.1205028322152,-862.788833019531,268.3495115291261,97.1\n",
      "300,2.99999999999998,-2141.4053705496167,1369.6044891043446,-771.8008814452721,288.23369620589534,96.3\n",
      "400,3.9999999999999587,-2053.332915643446,1519.9539374279516,-533.3789782154945,319.87478497099573,96.2\n",
      "500,4.999999999999938,-1983.5881832135249,1444.5136677593866,-539.0745154541382,303.9983564528913,98.2\n"
     ]
    }
   ],
   "source": [
    "protein = MOFFMRGModel()\n",
    "protein.append_mol(hp1alpha_dimer_parser)\n",
    "protein.native_pairs.loc[:, 'epsilon'] = 6.0\n",
    "top = app.PDBFile('hp1alpha_dimer_CA.pdb').getTopology()\n",
    "protein.create_system(top)\n",
    "salt_concentration = 82*unit.millimolar\n",
    "temperature = 300*unit.kelvin\n",
    "protein.add_protein_bonds(force_group=1)\n",
    "protein.add_protein_angles(force_group=2)\n",
    "protein.add_protein_dihedrals(force_group=3)\n",
    "protein.add_native_pairs(force_group=4)\n",
    "protein.add_contacts(force_group=5)\n",
    "protein.add_elec_switch(salt_concentration, temperature, force_group=6)\n",
    "protein.save_system('hp1alpha_dimer_CA_system.xml')\n",
    "friction_coeff = 1/unit.picosecond\n",
    "timestep = 10*unit.femtosecond\n",
    "integrator = mm.LangevinMiddleIntegrator(temperature, friction_coeff, timestep)\n",
    "init_coord = app.PDBFile('hp1alpha_dimer_CA.pdb').getPositions()\n",
    "protein.set_simulation(integrator, platform_name, init_coord=init_coord)\n",
    "protein.simulation.minimizeEnergy()\n",
    "output_interval = 100\n",
    "output_dcd = 'output_dimer.dcd'\n",
    "protein.add_reporters(output_interval, output_dcd)\n",
    "protein.simulation.context.setVelocitiesToTemperature(temperature)\n",
    "protein.simulation.step(500)"
   ]
  },
  {
   "attachments": {},
   "cell_type": "markdown",
   "metadata": {},
   "source": [
    "One useful setting is to apply rigid bodies. We use HP1alpha dimer as an example to show how to manipulate rigid body with our tool. The rigid body code is written by Peter Eastman, and we provide useful methods to help remove bonded interactions within the rigid body and make the simulation more efficient. The rigid body is realized by representing each rigid body with few real sites and certain restraints, while viewing the rest atoms as virtual sites.\n",
    "\n",
    "In the following sessions, we rigidize each CD domain and two CSDs together (i.e. 3 rigid bodies in all) based on the native configuration. All the bonded interactions (bonds, angles, and dihedrals) within each rigid body will be removed to save computational resources. Additionally we do not need to add native pairs as they are all within the rigid bodies. "
   ]
  },
  {
   "cell_type": "code",
   "execution_count": 6,
   "metadata": {},
   "outputs": [
    {
     "name": "stdout",
     "output_type": "stream",
     "text": [
      "Add protein bonds.\n",
      "Add protein angles.\n",
      "Add protein dihedrals.\n",
      "Add protein and DNA nonbonded contacts.\n",
      "Add protein and DNA electrostatic interactions with distance-dependent dielectric and switch.\n",
      "Add electrostatic interactions between native pair atoms.\n",
      "Use platform: CPU\n",
      "#\"Step\",\"Time (ps)\",\"Potential Energy (kJ/mole)\",\"Kinetic Energy (kJ/mole)\",\"Total Energy (kJ/mole)\",\"Temperature (K)\",\"Speed (ns/day)\"\n",
      "100,1.0000000000000007,157234.994436958,509.84853612308257,157744.84297308107,270.7314973713446,0\n",
      "200,2.0000000000000013,157289.39933563722,465.2481206173513,157754.64745625458,247.04850837020365,94.1\n",
      "300,2.99999999999998,157388.20513089257,550.0620415233122,157938.2671724159,292.08502054577724,94.5\n",
      "400,3.9999999999999587,157471.52724178522,574.6528763970115,158046.18011818224,305.1428466946806,94.7\n",
      "500,4.999999999999938,157388.77304940237,569.8881953161879,157958.66124471856,302.61278305398224,93.1\n"
     ]
    }
   ],
   "source": [
    "protein = MOFFMRGModel()\n",
    "protein.append_mol(hp1alpha_dimer_parser)\n",
    "top = app.PDBFile('hp1alpha_dimer_CA.pdb').getTopology()\n",
    "protein.create_system(top)\n",
    "init_coord = app.PDBFile('hp1alpha_dimer_CA.pdb').getPositions()\n",
    "rigid_coord = init_coord # set rigid body coordinates\n",
    "rigid_bodies = [cd1.tolist(), cd2.tolist(), csd1.tolist() + csd2.tolist()] # 3 rigid bodies\n",
    "protein.set_rigid_bodies(rigid_bodies, rigid_coord)\n",
    "salt_concentration = 82*unit.millimolar\n",
    "temperature = 300*unit.kelvin\n",
    "protein.add_protein_bonds(force_group=1)\n",
    "protein.add_protein_angles(force_group=2)\n",
    "protein.add_protein_dihedrals(force_group=3)\n",
    "protein.add_contacts(force_group=4)\n",
    "protein.add_elec_switch(salt_concentration, temperature, force_group=5)\n",
    "protein.save_system('rigid_hp1alpha_dimer_CA_system.xml')\n",
    "friction_coeff = 1/unit.picosecond\n",
    "timestep = 10*unit.femtosecond\n",
    "integrator = mm.LangevinMiddleIntegrator(temperature, friction_coeff, timestep)\n",
    "init_coord = app.PDBFile('hp1alpha_dimer_CA.pdb').getPositions()\n",
    "protein.set_simulation(integrator, platform_name, init_coord=init_coord)\n",
    "protein.simulation.minimizeEnergy()\n",
    "output_interval = 100\n",
    "output_dcd = 'output_dimer.dcd'\n",
    "protein.add_reporters(output_interval, output_dcd)\n",
    "protein.simulation.context.setVelocitiesToTemperature(temperature)\n",
    "protein.simulation.step(500)"
   ]
  }
 ],
 "metadata": {
  "kernelspec": {
   "display_name": "py38",
   "language": "python",
   "name": "python3"
  },
  "language_info": {
   "codemirror_mode": {
    "name": "ipython",
    "version": 3
   },
   "file_extension": ".py",
   "mimetype": "text/x-python",
   "name": "python",
   "nbconvert_exporter": "python",
   "pygments_lexer": "ipython3",
   "version": "3.8.13"
  },
  "orig_nbformat": 4,
  "vscode": {
   "interpreter": {
    "hash": "95d07581651f3c45a5651aa035df7e4a83b5587ddccf2e46662da40695cb8d28"
   }
  }
 },
 "nbformat": 4,
 "nbformat_minor": 2
}
