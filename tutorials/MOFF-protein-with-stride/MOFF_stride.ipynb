{
 "cells": [
  {
   "cell_type": "code",
   "execution_count": 5,
   "metadata": {},
   "outputs": [],
   "source": [
    "import numpy as np\n",
    "import pandas as pd\n",
    "import sys\n",
    "import os\n",
    "\n",
    "try:\n",
    "    import openmm as mm\n",
    "    import openmm.app as app\n",
    "    import openmm.unit as unit\n",
    "except ImportError:\n",
    "    import simtk.openmm as mm\n",
    "    import simtk.openmm.app as app\n",
    "    import simtk.unit as unit\n",
    "\n",
    "sys.path.append('../..')\n",
    "from openabc.forcefields.parsers import MOFFParser\n",
    "from openabc.forcefields import MOFFMRGModel\n",
    "from openabc.utils.stride import parse_stride\n",
    "\n",
    "# set simulation platform\n",
    "platform_name = 'CPU'"
   ]
  },
  {
   "attachments": {},
   "cell_type": "markdown",
   "metadata": {},
   "source": [
    "We use IBB.pdb as an example to show how to use stride output file as the input for `MOFFParser`. With secondary structure information read from stride as additional input for `MOFFParser`, only native pairs within continuous ordered domains are kept.\n",
    "\n",
    "First, we input IBB.pdb into <http://webclu.bio.wzw.tum.de/cgi-bin/stride/stridecgi.py>, get the output, and save it as IBB_stride.dat. Stride analyzes the structure and assigns secondary structure type to each amino acid. \n",
    "\n",
    "Next, we use function `parse_stride` to take a look at what information stride gives."
   ]
  },
  {
   "cell_type": "code",
   "execution_count": 6,
   "metadata": {},
   "outputs": [
    {
     "name": "stdout",
     "output_type": "stream",
     "text": [
      "   resname  pdb_resid  ordinal_resid ss_abbr        ss     phi     psi   rsaa\n",
      "0      GLY          1              1       T      Turn  360.00    9.00  117.3\n",
      "1      CYS          2              2       T      Turn  -64.21  -41.62  127.2\n",
      "2      THR          3              3       T      Turn  -63.44  134.47  111.8\n",
      "3      ASN          4              4       T      Turn  -71.94  154.03  147.1\n",
      "4      GLU          5              5       C      Coil  -73.10  147.49  153.7\n",
      "5      ASN          6              6       C      Coil  -87.67 -165.84  145.4\n",
      "6      ALA          7              7       C      Coil  -56.84  132.10   86.5\n",
      "7      ASN          8              8       C      Coil -148.99  -92.59  103.8\n",
      "8      THR          9              9       C      Coil  -52.60  159.96  113.8\n",
      "9      PRO         10             10       C      Coil  -71.25 -177.48  107.5\n",
      "10     ALA         11             11       C      Coil  -46.01  149.13  107.0\n",
      "11     ALA         12             12       C      Coil -113.50  144.74   72.4\n",
      "12     ARG         13             13       C      Coil  -79.43   -3.81  171.2\n",
      "13     LEU         14             14       G  310Helix  -46.12  -33.65  101.4\n",
      "14     HIS         15             15       G  310Helix  -56.66  -36.37  119.1\n",
      "15     ARG         16             16       G  310Helix  -69.24  -31.13  146.0\n",
      "16     PHE         17             17       T      Turn  -80.33  137.62  113.6\n",
      "17     LYS         18             18       T      Turn   54.34 -152.28  144.4\n",
      "18     ASN         19             19       T      Turn -105.98   40.75  122.0\n",
      "19     LYS         20             20       T      Turn  -67.25  -37.64  115.1\n"
     ]
    }
   ],
   "source": [
    "stride_data = parse_stride('IBB_stride.dat')\n",
    "print(stride_data.head(20))"
   ]
  },
  {
   "attachments": {},
   "cell_type": "markdown",
   "metadata": {},
   "source": [
    "We can see stride gives information about the secondary structure of residues. Columns \"ss_abbr\" and \"ss\" are the secondary structure name abbreviation and full name, respectively. It also includes phi and psi dihedrals, and residue solvent accessible area (rsaa). \n",
    "\n",
    "Then, we use the stride secondary structure information as additional input to `MOFFParser` and compare with parsing without secondary structure information. "
   ]
  },
  {
   "cell_type": "code",
   "execution_count": 7,
   "metadata": {},
   "outputs": [
    {
     "name": "stdout",
     "output_type": "stream",
     "text": [
      "Parse molecule with default settings.\n",
      "Get native pairs with shadow algorithm.\n",
      "Get native pairs with shadow algorithm.\n",
      "Secondary structure information is provided.\n",
      "Only native pairs within the continuous ordered secondary structure domains are kept.\n",
      "      a1    a2        mu  epsilon  no stride  stride\n",
      "0    4.0   8.0  0.945069      3.0          1     0.0\n",
      "1   12.0  16.0  0.679052      3.0          1     0.0\n",
      "2   13.0  19.0  0.649438      3.0          1     0.0\n",
      "3   13.0  20.0  0.698829      3.0          1     0.0\n",
      "4   14.0  19.0  0.526343      3.0          1     0.0\n",
      "5   14.0  20.0  0.374820      3.0          1     0.0\n",
      "6   16.0  20.0  0.709063      3.0          1     0.0\n",
      "7   20.0  25.0  0.699613      3.0          1     0.0\n",
      "8   20.0  26.0  0.909406      3.0          1     0.0\n",
      "9   20.0  29.0  1.180938      3.0          1     0.0\n",
      "10  21.0  25.0  0.604508      3.0          1     0.0\n",
      "11  21.0  26.0  0.647860      3.0          1     0.0\n",
      "12  21.0  29.0  0.994547      3.0          1     0.0\n",
      "13  22.0  26.0  0.613463      3.0          1     0.0\n",
      "14  22.0  29.0  1.070893      3.0          1     0.0\n",
      "15  23.0  27.0  0.598023      3.0          1     1.0\n",
      "16  23.0  30.0  1.002959      3.0          1     1.0\n",
      "17  24.0  28.0  0.627308      3.0          1     1.0\n",
      "18  25.0  29.0  0.627290      3.0          1     1.0\n",
      "19  26.0  30.0  0.612489      3.0          1     1.0\n"
     ]
    }
   ],
   "source": [
    "IBB_no_stride = MOFFParser.from_atomistic_pdb('IBB.pdb', 'IBB_CA.pdb') # use default parse, which does not use secondary structure information\n",
    "IBB_stride = MOFFParser.from_atomistic_pdb('IBB.pdb', 'IBB_CA.pdb', default_parse=False)\n",
    "ss = stride_data['ss_abbr'].tolist()\n",
    "IBB_stride.parse_mol(ss=ss, ordered_ss_names=['H', 'E']) # H represents alpha-helix, and E represents beta-strand\n",
    "\n",
    "IBB_no_stride.native_pairs.loc[:, 'no stride'] = 1\n",
    "IBB_stride.native_pairs.loc[:, 'stride'] = 1\n",
    "merged_native_pairs = pd.merge(IBB_no_stride.native_pairs, IBB_stride.native_pairs, 'outer').fillna(0)\n",
    "print(merged_native_pairs.head(20))\n",
    "merged_native_pairs.to_csv('merged_native_pairs.csv', index=False)"
   ]
  },
  {
   "attachments": {},
   "cell_type": "markdown",
   "metadata": {},
   "source": [
    "We can take a look at merged_native_pairs.csv. There are two columns called 'no stride' and 'stride'. 1 means the pair is kept, while 0 means the pair is removed. We can see many native pairs are removed with stride secondary structure as input. For example, pair between atom 4 and 8 is removed with stride as input, as they are both within a coil domain. Also pair between atom 22 and 29 is removed given stride input, as atom 22 is in turn domain. Note here atom index starts from 0.\n",
    "\n",
    "We can easily set up simulation for running IBB, as we have shown in other MOFF tutorials."
   ]
  },
  {
   "cell_type": "code",
   "execution_count": 8,
   "metadata": {},
   "outputs": [
    {
     "name": "stdout",
     "output_type": "stream",
     "text": [
      "Add protein bonds.\n",
      "Warning: angle composed of atom (10, 11, 12) has theta0 equal to 2.3873603343963623, which is larger than the threshold value equal to 2.2689280275926285!\n",
      "Warning: angle composed of atom (52, 53, 54) has theta0 equal to 2.333550453186035, which is larger than the threshold value equal to 2.2689280275926285!\n",
      "Warning: angle composed of atom (59, 60, 61) has theta0 equal to 2.4287657737731934, which is larger than the threshold value equal to 2.2689280275926285!\n",
      "Warning: angle composed of atom (67, 68, 69) has theta0 equal to 2.4335947036743164, which is larger than the threshold value equal to 2.2689280275926285!\n",
      "Warning: angle composed of atom (69, 70, 71) has theta0 equal to 2.3737916946411133, which is larger than the threshold value equal to 2.2689280275926285!\n",
      "Warning: angle composed of atom (75, 76, 77) has theta0 equal to 2.4753127098083496, which is larger than the threshold value equal to 2.2689280275926285!\n",
      "Warning: angle composed of atom (81, 82, 83) has theta0 equal to 2.4488685131073, which is larger than the threshold value equal to 2.2689280275926285!\n",
      "Warning: angle composed of atom (86, 87, 88) has theta0 equal to 2.2972378730773926, which is larger than the threshold value equal to 2.2689280275926285!\n",
      "Warning: angle composed of atom (91, 92, 93) has theta0 equal to 2.367954730987549, which is larger than the threshold value equal to 2.2689280275926285!\n",
      "Add protein dihedrals.\n",
      "Add native pairs.\n",
      "Add protein and DNA nonbonded contacts.\n",
      "Add protein and DNA electrostatic interactions with distance-dependent dielectric and switch.\n",
      "Add electrostatic interactions between native pair atoms.\n",
      "Use platform: CPU\n",
      "#\"Step\",\"Time (ps)\",\"Potential Energy (kJ/mole)\",\"Kinetic Energy (kJ/mole)\",\"Total Energy (kJ/mole)\",\"Temperature (K)\",\"Speed (ns/day)\"\n",
      "100,1.0000000000000007,154.45552404416557,258.7589025327119,413.2144265768775,216.1218235825033,0\n",
      "200,2.0000000000000013,173.5103745443529,339.2166672463606,512.7270417907135,283.32213499628165,128\n",
      "300,2.99999999999998,308.12215806115296,322.60498767677836,630.7271457379313,269.4476501139983,117\n",
      "400,3.9999999999999587,257.67129568539536,427.50064525929935,685.1719409446947,357.0590929695899,114\n",
      "500,4.999999999999938,265.55233535472325,387.9020409594406,653.4543763141639,323.98536105605496,112\n"
     ]
    }
   ],
   "source": [
    "protein = MOFFMRGModel()\n",
    "protein.append_mol(IBB_stride)\n",
    "top = app.PDBFile('IBB_CA.pdb').getTopology()\n",
    "protein.create_system(top)\n",
    "salt_conc = 150*unit.millimolar\n",
    "temperature = 300*unit.kelvin\n",
    "protein.add_protein_bonds(force_group=1)\n",
    "protein.add_protein_angles(force_group=2)\n",
    "protein.add_protein_dihedrals(force_group=3)\n",
    "protein.add_native_pairs(force_group=4)\n",
    "protein.add_contacts(force_group=5)\n",
    "protein.add_elec_switch(salt_conc, temperature, force_group=6)\n",
    "friction_coeff = 1/unit.picosecond\n",
    "timestep = 10*unit.femtosecond\n",
    "integrator = mm.LangevinMiddleIntegrator(temperature, friction_coeff, timestep)\n",
    "init_coord = app.PDBFile('IBB_CA.pdb').getPositions()\n",
    "protein.set_simulation(integrator, platform_name, init_coord=init_coord)\n",
    "protein.simulation.minimizeEnergy()\n",
    "output_interval = 100\n",
    "output_dcd = 'output.dcd'\n",
    "protein.add_reporters(output_interval, output_dcd)\n",
    "protein.simulation.context.setVelocitiesToTemperature(temperature)\n",
    "protein.simulation.step(500)"
   ]
  }
 ],
 "metadata": {
  "kernelspec": {
   "display_name": "py39",
   "language": "python",
   "name": "python3"
  },
  "language_info": {
   "codemirror_mode": {
    "name": "ipython",
    "version": 3
   },
   "file_extension": ".py",
   "mimetype": "text/x-python",
   "name": "python",
   "nbconvert_exporter": "python",
   "pygments_lexer": "ipython3",
   "version": "3.9.16"
  },
  "orig_nbformat": 4
 },
 "nbformat": 4,
 "nbformat_minor": 2
}
