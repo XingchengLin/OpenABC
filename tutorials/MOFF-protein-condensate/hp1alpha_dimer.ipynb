{
 "cells": [
  {
   "cell_type": "markdown",
   "metadata": {},
   "source": [
    "# Tutorial for MOFF single HP1alpha dimer simulation."
   ]
  },
  {
   "cell_type": "code",
   "execution_count": 1,
   "metadata": {},
   "outputs": [
    {
     "data": {
      "application/vnd.jupyter.widget-view+json": {
       "model_id": "9b13303ac0f64ff6921f73635214f8e4",
       "version_major": 2,
       "version_minor": 0
      },
      "text/plain": []
     },
     "metadata": {},
     "output_type": "display_data"
    }
   ],
   "source": [
    "# load packages\n",
    "import numpy as np\n",
    "import pandas as pd\n",
    "import sys\n",
    "try:\n",
    "    import openmm as mm\n",
    "    import openmm.app as app\n",
    "    import openmm.unit as unit\n",
    "except ImportError:\n",
    "    import simtk.openmm as mm\n",
    "    import simtk.openmm.app as app\n",
    "    import simtk.unit as unit\n",
    "import mdtraj\n",
    "try:\n",
    "    import nglview\n",
    "except ImportError:\n",
    "    print('Please install nglview to visualize molecules in the jupyter notebooks.')\n",
    "\n",
    "sys.path.append('../../')\n",
    "from openabc.forcefields.parsers import MOFFParser\n",
    "from openabc.forcefields import MOFFMRGModel\n",
    "\n",
    "# set simulation platform\n",
    "platform_name = 'CPU'"
   ]
  },
  {
   "cell_type": "markdown",
   "metadata": {},
   "source": [
    "We simulate a single HP1alpha dimer with MOFF force field. We start from the atomistic model (hp1a.pdb) to build the CA model and apply MOFF force field. For your reference, we also provide hp1a.itp file, which is the GROMACS topology file. "
   ]
  },
  {
   "cell_type": "code",
   "execution_count": 2,
   "metadata": {},
   "outputs": [
    {
     "name": "stdout",
     "output_type": "stream",
     "text": [
      "Parse molecule with default settings.\n",
      "Get native pairs with shadow algorithm.\n",
      "Show HP1alpha dimer all-atom structure.\n"
     ]
    }
   ],
   "source": [
    "hp1alpha_dimer_parser = MOFFParser.from_atomistic_pdb('input-pdb/hp1a.pdb', 'hp1alpha_dimer_CA.pdb')\n",
    "\n",
    "pdb = mdtraj.load_pdb('input-pdb/hp1a.pdb')\n",
    "print('Show HP1alpha dimer all-atom structure.')\n",
    "view = nglview.show_mdtraj(pdb)\n",
    "view"
   ]
  },
  {
   "cell_type": "code",
   "execution_count": 3,
   "metadata": {},
   "outputs": [
    {
     "name": "stdout",
     "output_type": "stream",
     "text": [
      "Show HP1alpha dimer CG structure.\n"
     ]
    }
   ],
   "source": [
    "pdb = mdtraj.load_pdb('hp1alpha_dimer_CA.pdb')\n",
    "print('Show HP1alpha dimer CG structure.')\n",
    "view = nglview.show_mdtraj(pdb)\n",
    "view"
   ]
  },
  {
   "cell_type": "markdown",
   "metadata": {},
   "source": [
    "As shadow algorithm will find redundnat native pairs within disordered domains, we need to remove those redundant pairs. We only keep native pairs within CD, CSD, or between two CSDs. The CD domain is 17-72, and CSD domain is 115-176 (here indices start from 1), and there are 191 residues in each chain."
   ]
  },
  {
   "cell_type": "code",
   "execution_count": 4,
   "metadata": {},
   "outputs": [
    {
     "name": "stdout",
     "output_type": "stream",
     "text": [
      "There are 382 CA atoms in each HP1alpha dimer.\n"
     ]
    }
   ],
   "source": [
    "old_native_pairs = hp1alpha_dimer_parser.native_pairs.copy()\n",
    "new_native_pairs = pd.DataFrame(columns=old_native_pairs.columns)\n",
    "cd1 = np.arange(16, 72)\n",
    "csd1 = np.arange(114, 176)\n",
    "n_atoms_per_hp1alpha_dimer = len(hp1alpha_dimer_parser.atoms.index)\n",
    "print(f'There are {n_atoms_per_hp1alpha_dimer} CA atoms in each HP1alpha dimer.')\n",
    "cd2 = cd1 + int(n_atoms_per_hp1alpha_dimer/2)\n",
    "csd2 = csd1 + int(n_atoms_per_hp1alpha_dimer/2)\n",
    "for i, row in old_native_pairs.iterrows():\n",
    "    a1, a2 = int(row['a1']), int(row['a2'])\n",
    "    if a1 > a2:\n",
    "        a1, a2 = a2, a1\n",
    "    flag1 = ((a1 in cd1) and (a2 in cd1)) or ((a1 in csd1) and (a2 in csd1))\n",
    "    flag2 = ((a1 in cd2) and (a2 in cd2)) or ((a1 in csd2) and (a2 in csd2))\n",
    "    flag3 = ((a1 in csd1) and (a2 in csd2))\n",
    "    if flag1 or flag2 or flag3:\n",
    "        new_native_pairs.loc[len(new_native_pairs.index)] = row\n",
    "hp1alpha_dimer_parser.native_pairs = new_native_pairs\n",
    "hp1alpha_dimer_parser.parse_exclusions() # update exclusions based on the new native pairs"
   ]
  },
  {
   "cell_type": "markdown",
   "metadata": {},
   "source": [
    "We can read the bonded interactin parameters, which are pandas dataframes set as attributes of `hp1alpha_dimer_parser`. \n",
    "\n",
    "We print the first 5 rows of protein bonds, angles, dihedrals, and native pairs to take a look."
   ]
  },
  {
   "cell_type": "code",
   "execution_count": 5,
   "metadata": {},
   "outputs": [
    {
     "name": "stdout",
     "output_type": "stream",
     "text": [
      "   a1  a2    r0  k_bond\n",
      "0   0   1  0.38    1000\n",
      "1   1   2  0.38    1000\n",
      "2   2   3  0.38    1000\n",
      "3   3   4  0.38    1000\n",
      "4   4   5  0.38    1000\n",
      "   a1  a2  a3    theta0  k_angle\n",
      "0   0   1   2  1.994760      120\n",
      "1   1   2   3  2.271120      120\n",
      "2   2   3   4  2.179586      120\n",
      "3   3   4   5  1.924860      120\n",
      "4   4   5   6  2.371727      120\n",
      "    a1   a2   a3   a4  periodicity      phi0  k_dihedral\n",
      "0  0.0  1.0  2.0  3.0          1.0  0.653916         3.0\n",
      "1  0.0  1.0  2.0  3.0          3.0  1.961747         1.5\n",
      "2  1.0  2.0  3.0  4.0          1.0  0.320945         3.0\n",
      "3  1.0  2.0  3.0  4.0          3.0  0.962834         1.5\n",
      "4  2.0  3.0  4.0  5.0          1.0  0.887062         3.0\n",
      "     a1    a2        mu  epsilon\n",
      "0  18.0  41.0  0.812619      3.0\n",
      "1  18.0  42.0  0.751187      3.0\n",
      "2  19.0  40.0  0.576995      3.0\n",
      "3  19.0  41.0  0.518028      3.0\n",
      "4  19.0  42.0  0.549097      3.0\n"
     ]
    }
   ],
   "source": [
    "print(hp1alpha_dimer_parser.protein_bonds.head())\n",
    "print(hp1alpha_dimer_parser.protein_angles.head())\n",
    "print(hp1alpha_dimer_parser.protein_dihedrals.head())\n",
    "print(hp1alpha_dimer_parser.native_pairs.head())"
   ]
  },
  {
   "cell_type": "markdown",
   "metadata": {},
   "source": [
    "Now we can do the simulation. We append `hp1alpha_dimer_parser` to `protein`, and object `protein` includes `protein_bonds`, `protein_angles`, `protein_dihedrals`, and `native_pairs` as attributes. Note we use stronger native pairs (epsilon = 6.0 instead of 3.0). We directly change the epsilon parameter in `protein.native_pairs`. "
   ]
  },
  {
   "cell_type": "code",
   "execution_count": 6,
   "metadata": {},
   "outputs": [
    {
     "name": "stdout",
     "output_type": "stream",
     "text": [
      "Add protein bonds.\n",
      "Warning: angle composed of atom (1, 2, 3) has theta0 equal to 2.271120309829712, which is larger than the threshold value equal to 2.2689280275926285!\n",
      "Warning: angle composed of atom (4, 5, 6) has theta0 equal to 2.3717265129089355, which is larger than the threshold value equal to 2.2689280275926285!\n",
      "Warning: angle composed of atom (7, 8, 9) has theta0 equal to 2.404282569885254, which is larger than the threshold value equal to 2.2689280275926285!\n",
      "Warning: angle composed of atom (9, 10, 11) has theta0 equal to 2.4638004302978516, which is larger than the threshold value equal to 2.2689280275926285!\n",
      "Warning: angle composed of atom (15, 16, 17) has theta0 equal to 2.541534185409546, which is larger than the threshold value equal to 2.2689280275926285!\n",
      "Warning: angle composed of atom (17, 18, 19) has theta0 equal to 2.5139076709747314, which is larger than the threshold value equal to 2.2689280275926285!\n",
      "Warning: angle composed of atom (19, 20, 21) has theta0 equal to 2.2893664836883545, which is larger than the threshold value equal to 2.2689280275926285!\n",
      "Warning: angle composed of atom (22, 23, 24) has theta0 equal to 2.533906936645508, which is larger than the threshold value equal to 2.2689280275926285!\n",
      "Warning: angle composed of atom (25, 26, 27) has theta0 equal to 2.5470705032348633, which is larger than the threshold value equal to 2.2689280275926285!\n",
      "Warning: angle composed of atom (26, 27, 28) has theta0 equal to 2.312490940093994, which is larger than the threshold value equal to 2.2689280275926285!\n",
      "Warning: angle composed of atom (27, 28, 29) has theta0 equal to 2.4959754943847656, which is larger than the threshold value equal to 2.2689280275926285!\n",
      "Warning: angle composed of atom (28, 29, 30) has theta0 equal to 2.2786426544189453, which is larger than the threshold value equal to 2.2689280275926285!\n",
      "Warning: angle composed of atom (29, 30, 31) has theta0 equal to 2.3516759872436523, which is larger than the threshold value equal to 2.2689280275926285!\n",
      "Warning: angle composed of atom (35, 36, 37) has theta0 equal to 2.286816120147705, which is larger than the threshold value equal to 2.2689280275926285!\n",
      "Warning: angle composed of atom (42, 43, 44) has theta0 equal to 2.5148558616638184, which is larger than the threshold value equal to 2.2689280275926285!\n",
      "Warning: angle composed of atom (43, 44, 45) has theta0 equal to 2.3267335891723633, which is larger than the threshold value equal to 2.2689280275926285!\n",
      "Warning: angle composed of atom (48, 49, 50) has theta0 equal to 2.2932353019714355, which is larger than the threshold value equal to 2.2689280275926285!\n",
      "Warning: angle composed of atom (50, 51, 52) has theta0 equal to 2.4005579948425293, which is larger than the threshold value equal to 2.2689280275926285!\n",
      "Warning: angle composed of atom (75, 76, 77) has theta0 equal to 2.5604758262634277, which is larger than the threshold value equal to 2.2689280275926285!\n",
      "Warning: angle composed of atom (84, 85, 86) has theta0 equal to 2.398739814758301, which is larger than the threshold value equal to 2.2689280275926285!\n",
      "Warning: angle composed of atom (89, 90, 91) has theta0 equal to 2.3089566230773926, which is larger than the threshold value equal to 2.2689280275926285!\n",
      "Warning: angle composed of atom (95, 96, 97) has theta0 equal to 2.3222670555114746, which is larger than the threshold value equal to 2.2689280275926285!\n",
      "Warning: angle composed of atom (101, 102, 103) has theta0 equal to 2.284329414367676, which is larger than the threshold value equal to 2.2689280275926285!\n",
      "Warning: angle composed of atom (113, 114, 115) has theta0 equal to 2.2796645164489746, which is larger than the threshold value equal to 2.2689280275926285!\n",
      "Warning: angle composed of atom (123, 124, 125) has theta0 equal to 2.5085532665252686, which is larger than the threshold value equal to 2.2689280275926285!\n",
      "Warning: angle composed of atom (126, 127, 128) has theta0 equal to 2.5340840816497803, which is larger than the threshold value equal to 2.2689280275926285!\n",
      "Warning: angle composed of atom (127, 128, 129) has theta0 equal to 2.349975109100342, which is larger than the threshold value equal to 2.2689280275926285!\n",
      "Warning: angle composed of atom (128, 129, 130) has theta0 equal to 2.4418365955352783, which is larger than the threshold value equal to 2.2689280275926285!\n",
      "Warning: angle composed of atom (140, 141, 142) has theta0 equal to 2.3184213638305664, which is larger than the threshold value equal to 2.2689280275926285!\n",
      "Warning: angle composed of atom (147, 148, 149) has theta0 equal to 2.301426649093628, which is larger than the threshold value equal to 2.2689280275926285!\n",
      "Warning: angle composed of atom (149, 150, 151) has theta0 equal to 2.311504364013672, which is larger than the threshold value equal to 2.2689280275926285!\n",
      "Warning: angle composed of atom (183, 184, 185) has theta0 equal to 2.336792230606079, which is larger than the threshold value equal to 2.2689280275926285!\n",
      "Warning: angle composed of atom (192, 193, 194) has theta0 equal to 2.271170139312744, which is larger than the threshold value equal to 2.2689280275926285!\n",
      "Warning: angle composed of atom (195, 196, 197) has theta0 equal to 2.3715498447418213, which is larger than the threshold value equal to 2.2689280275926285!\n",
      "Warning: angle composed of atom (198, 199, 200) has theta0 equal to 2.404168128967285, which is larger than the threshold value equal to 2.2689280275926285!\n",
      "Warning: angle composed of atom (200, 201, 202) has theta0 equal to 2.464022159576416, which is larger than the threshold value equal to 2.2689280275926285!\n",
      "Warning: angle composed of atom (206, 207, 208) has theta0 equal to 2.541806697845459, which is larger than the threshold value equal to 2.2689280275926285!\n",
      "Warning: angle composed of atom (208, 209, 210) has theta0 equal to 2.51389741897583, which is larger than the threshold value equal to 2.2689280275926285!\n",
      "Warning: angle composed of atom (210, 211, 212) has theta0 equal to 2.2896060943603516, which is larger than the threshold value equal to 2.2689280275926285!\n",
      "Warning: angle composed of atom (213, 214, 215) has theta0 equal to 2.533395290374756, which is larger than the threshold value equal to 2.2689280275926285!\n",
      "Warning: angle composed of atom (216, 217, 218) has theta0 equal to 2.547632932662964, which is larger than the threshold value equal to 2.2689280275926285!\n",
      "Warning: angle composed of atom (217, 218, 219) has theta0 equal to 2.312903881072998, which is larger than the threshold value equal to 2.2689280275926285!\n",
      "Warning: angle composed of atom (218, 219, 220) has theta0 equal to 2.4963464736938477, which is larger than the threshold value equal to 2.2689280275926285!\n",
      "Warning: angle composed of atom (219, 220, 221) has theta0 equal to 2.2786951065063477, which is larger than the threshold value equal to 2.2689280275926285!\n",
      "Warning: angle composed of atom (220, 221, 222) has theta0 equal to 2.3515825271606445, which is larger than the threshold value equal to 2.2689280275926285!\n",
      "Warning: angle composed of atom (226, 227, 228) has theta0 equal to 2.286383867263794, which is larger than the threshold value equal to 2.2689280275926285!\n",
      "Warning: angle composed of atom (233, 234, 235) has theta0 equal to 2.5150036811828613, which is larger than the threshold value equal to 2.2689280275926285!\n",
      "Warning: angle composed of atom (234, 235, 236) has theta0 equal to 2.326620101928711, which is larger than the threshold value equal to 2.2689280275926285!\n",
      "Warning: angle composed of atom (239, 240, 241) has theta0 equal to 2.2930967807769775, which is larger than the threshold value equal to 2.2689280275926285!\n",
      "Warning: angle composed of atom (241, 242, 243) has theta0 equal to 2.40047287940979, which is larger than the threshold value equal to 2.2689280275926285!\n",
      "Warning: angle composed of atom (266, 267, 268) has theta0 equal to 2.5606913566589355, which is larger than the threshold value equal to 2.2689280275926285!\n",
      "Warning: angle composed of atom (275, 276, 277) has theta0 equal to 2.3991587162017822, which is larger than the threshold value equal to 2.2689280275926285!\n",
      "Warning: angle composed of atom (280, 281, 282) has theta0 equal to 2.308898448944092, which is larger than the threshold value equal to 2.2689280275926285!\n",
      "Warning: angle composed of atom (286, 287, 288) has theta0 equal to 2.3220129013061523, which is larger than the threshold value equal to 2.2689280275926285!\n",
      "Warning: angle composed of atom (292, 293, 294) has theta0 equal to 2.2843289375305176, which is larger than the threshold value equal to 2.2689280275926285!\n",
      "Warning: angle composed of atom (304, 305, 306) has theta0 equal to 2.279568910598755, which is larger than the threshold value equal to 2.2689280275926285!\n",
      "Warning: angle composed of atom (314, 315, 316) has theta0 equal to 2.50836181640625, which is larger than the threshold value equal to 2.2689280275926285!\n",
      "Warning: angle composed of atom (317, 318, 319) has theta0 equal to 2.5341267585754395, which is larger than the threshold value equal to 2.2689280275926285!\n",
      "Warning: angle composed of atom (318, 319, 320) has theta0 equal to 2.349658489227295, which is larger than the threshold value equal to 2.2689280275926285!\n",
      "Warning: angle composed of atom (319, 320, 321) has theta0 equal to 2.441474199295044, which is larger than the threshold value equal to 2.2689280275926285!\n",
      "Warning: angle composed of atom (331, 332, 333) has theta0 equal to 2.318450927734375, which is larger than the threshold value equal to 2.2689280275926285!\n",
      "Warning: angle composed of atom (338, 339, 340) has theta0 equal to 2.301187753677368, which is larger than the threshold value equal to 2.2689280275926285!\n",
      "Warning: angle composed of atom (340, 341, 342) has theta0 equal to 2.3116753101348877, which is larger than the threshold value equal to 2.2689280275926285!\n",
      "Warning: angle composed of atom (374, 375, 376) has theta0 equal to 2.3368122577667236, which is larger than the threshold value equal to 2.2689280275926285!\n",
      "Add protein dihedrals.\n",
      "Add native pairs.\n",
      "Add protein and DNA nonbonded contacts.\n",
      "Add protein and DNA electrostatic interactions with distance-dependent dielectric and switch.\n",
      "Add electrostatic interactions between native pair atoms.\n",
      "Use platform: CPU\n",
      "#\"Step\",\"Time (ps)\",\"Potential Energy (kJ/mole)\",\"Kinetic Energy (kJ/mole)\",\"Total Energy (kJ/mole)\",\"Temperature (K)\",\"Speed (ns/day)\"\n",
      "100,1.0000000000000007,-2314.017818668309,1240.026131724051,-1073.9916869442577,260.9638900734441,0\n",
      "200,2.0000000000000013,-2150.8490976364124,1407.8354040181857,-743.0136936182266,296.27940429360444,107\n",
      "300,2.99999999999998,-2027.7669061115287,1381.4841372583683,-646.2827688531604,290.7337719024192,102\n",
      "400,3.9999999999999587,-1953.6872865381126,1428.6952451031282,-524.9920414349845,300.66936442151876,100\n",
      "500,4.999999999999938,-1909.366066654338,1358.8116283595525,-550.5544382947855,285.96233526202076,102\n"
     ]
    }
   ],
   "source": [
    "protein = MOFFMRGModel()\n",
    "protein.append_mol(hp1alpha_dimer_parser)\n",
    "protein.native_pairs.loc[:, 'epsilon'] = 6.0\n",
    "top = app.PDBFile('hp1alpha_dimer_CA.pdb').getTopology()\n",
    "protein.create_system(top)\n",
    "salt_conc = 82*unit.millimolar\n",
    "temperature = 300*unit.kelvin\n",
    "protein.add_protein_bonds(force_group=1)\n",
    "protein.add_protein_angles(force_group=2)\n",
    "protein.add_protein_dihedrals(force_group=3)\n",
    "protein.add_native_pairs(force_group=4)\n",
    "protein.add_contacts(force_group=5)\n",
    "protein.add_elec_switch(salt_conc, temperature, force_group=6)\n",
    "protein.save_system('hp1alpha_dimer_CA_system.xml')\n",
    "friction_coeff = 1/unit.picosecond\n",
    "timestep = 10*unit.femtosecond\n",
    "integrator = mm.LangevinMiddleIntegrator(temperature, friction_coeff, timestep)\n",
    "init_coord = app.PDBFile('hp1alpha_dimer_CA.pdb').getPositions()\n",
    "protein.set_simulation(integrator, platform_name, init_coord=init_coord)\n",
    "protein.simulation.minimizeEnergy()\n",
    "output_interval = 100\n",
    "output_dcd = 'output_dimer.dcd'\n",
    "protein.add_reporters(output_interval, output_dcd)\n",
    "protein.simulation.context.setVelocitiesToTemperature(temperature)\n",
    "protein.simulation.step(500)"
   ]
  },
  {
   "cell_type": "markdown",
   "metadata": {},
   "source": [
    "One useful setting is to apply rigid bodies. We use HP1alpha dimer as an example to show how to manipulate rigid body with our tool. The rigid body code is written by Peter Eastman, and we provide useful methods to help remove bonded interactions within the rigid body and make the simulation more efficient. The rigid body is realized by representing each rigid body with few real sites and certain restraints, while viewing the rest atoms as virtual sites.\n",
    "\n",
    "In the following sessions, we rigidize each CD domain and two CSDs together (i.e. 3 rigid bodies in all) based on the native configuration. All the bonded interactions (bonds, angles, and dihedrals) within each rigid body will be removed to save computational resources. Additionally we do not need to add native pairs as they are all within the rigid bodies. "
   ]
  },
  {
   "cell_type": "code",
   "execution_count": 7,
   "metadata": {},
   "outputs": [
    {
     "name": "stdout",
     "output_type": "stream",
     "text": [
      "Add protein bonds.\n",
      "Warning: angle composed of atom (1, 2, 3) has theta0 equal to 2.271120309829712, which is larger than the threshold value equal to 2.2689280275926285!\n",
      "Warning: angle composed of atom (4, 5, 6) has theta0 equal to 2.3717265129089355, which is larger than the threshold value equal to 2.2689280275926285!\n",
      "Warning: angle composed of atom (7, 8, 9) has theta0 equal to 2.404282569885254, which is larger than the threshold value equal to 2.2689280275926285!\n",
      "Warning: angle composed of atom (9, 10, 11) has theta0 equal to 2.4638004302978516, which is larger than the threshold value equal to 2.2689280275926285!\n",
      "Warning: angle composed of atom (15, 16, 17) has theta0 equal to 2.541534185409546, which is larger than the threshold value equal to 2.2689280275926285!\n",
      "Warning: angle composed of atom (75, 76, 77) has theta0 equal to 2.5604758262634277, which is larger than the threshold value equal to 2.2689280275926285!\n",
      "Warning: angle composed of atom (84, 85, 86) has theta0 equal to 2.398739814758301, which is larger than the threshold value equal to 2.2689280275926285!\n",
      "Warning: angle composed of atom (89, 90, 91) has theta0 equal to 2.3089566230773926, which is larger than the threshold value equal to 2.2689280275926285!\n",
      "Warning: angle composed of atom (95, 96, 97) has theta0 equal to 2.3222670555114746, which is larger than the threshold value equal to 2.2689280275926285!\n",
      "Warning: angle composed of atom (101, 102, 103) has theta0 equal to 2.284329414367676, which is larger than the threshold value equal to 2.2689280275926285!\n",
      "Warning: angle composed of atom (113, 114, 115) has theta0 equal to 2.2796645164489746, which is larger than the threshold value equal to 2.2689280275926285!\n",
      "Warning: angle composed of atom (183, 184, 185) has theta0 equal to 2.336792230606079, which is larger than the threshold value equal to 2.2689280275926285!\n",
      "Warning: angle composed of atom (192, 193, 194) has theta0 equal to 2.271170139312744, which is larger than the threshold value equal to 2.2689280275926285!\n",
      "Warning: angle composed of atom (195, 196, 197) has theta0 equal to 2.3715498447418213, which is larger than the threshold value equal to 2.2689280275926285!\n",
      "Warning: angle composed of atom (198, 199, 200) has theta0 equal to 2.404168128967285, which is larger than the threshold value equal to 2.2689280275926285!\n",
      "Warning: angle composed of atom (200, 201, 202) has theta0 equal to 2.464022159576416, which is larger than the threshold value equal to 2.2689280275926285!\n",
      "Warning: angle composed of atom (206, 207, 208) has theta0 equal to 2.541806697845459, which is larger than the threshold value equal to 2.2689280275926285!\n",
      "Warning: angle composed of atom (266, 267, 268) has theta0 equal to 2.5606913566589355, which is larger than the threshold value equal to 2.2689280275926285!\n",
      "Warning: angle composed of atom (275, 276, 277) has theta0 equal to 2.3991587162017822, which is larger than the threshold value equal to 2.2689280275926285!\n",
      "Warning: angle composed of atom (280, 281, 282) has theta0 equal to 2.308898448944092, which is larger than the threshold value equal to 2.2689280275926285!\n",
      "Warning: angle composed of atom (286, 287, 288) has theta0 equal to 2.3220129013061523, which is larger than the threshold value equal to 2.2689280275926285!\n",
      "Warning: angle composed of atom (292, 293, 294) has theta0 equal to 2.2843289375305176, which is larger than the threshold value equal to 2.2689280275926285!\n",
      "Warning: angle composed of atom (304, 305, 306) has theta0 equal to 2.279568910598755, which is larger than the threshold value equal to 2.2689280275926285!\n",
      "Warning: angle composed of atom (374, 375, 376) has theta0 equal to 2.3368122577667236, which is larger than the threshold value equal to 2.2689280275926285!\n",
      "Add protein dihedrals.\n",
      "Add protein and DNA nonbonded contacts.\n",
      "Add protein and DNA electrostatic interactions with distance-dependent dielectric and switch.\n",
      "Add electrostatic interactions between native pair atoms.\n",
      "Use platform: CPU\n",
      "#\"Step\",\"Time (ps)\",\"Potential Energy (kJ/mole)\",\"Kinetic Energy (kJ/mole)\",\"Total Energy (kJ/mole)\",\"Temperature (K)\",\"Speed (ns/day)\"\n",
      "100,1.0000000000000007,157211.35510006425,457.44219473014755,157668.7972947944,242.90353225654812,0\n",
      "200,2.0000000000000013,157333.02704632937,490.97129259496626,157823.99833892434,260.70760979588493,97\n",
      "300,2.99999999999998,157359.8040688202,543.4792713228804,157903.28334014307,288.5895447192386,96.9\n",
      "400,3.9999999999999587,157470.17750337013,512.4629518942786,157982.6404552644,272.1197620153295,97\n",
      "500,4.999999999999938,157466.11102865377,522.1495755448786,157988.26060419864,277.26339574102593,99.1\n"
     ]
    }
   ],
   "source": [
    "protein = MOFFMRGModel()\n",
    "protein.append_mol(hp1alpha_dimer_parser)\n",
    "top = app.PDBFile('hp1alpha_dimer_CA.pdb').getTopology()\n",
    "protein.create_system(top)\n",
    "init_coord = app.PDBFile('hp1alpha_dimer_CA.pdb').getPositions()\n",
    "rigid_coord = init_coord # set rigid body coordinates\n",
    "rigid_bodies = [cd1.tolist(), cd2.tolist(), csd1.tolist() + csd2.tolist()] # 3 rigid bodies\n",
    "protein.set_rigid_bodies(rigid_coord, rigid_bodies)\n",
    "salt_conc = 82*unit.millimolar\n",
    "temperature = 300*unit.kelvin\n",
    "protein.add_protein_bonds(force_group=1)\n",
    "protein.add_protein_angles(force_group=2)\n",
    "protein.add_protein_dihedrals(force_group=3)\n",
    "protein.add_contacts(force_group=4)\n",
    "protein.add_elec_switch(salt_conc, temperature, force_group=5)\n",
    "protein.save_system('rigid_hp1alpha_dimer_CA_system.xml')\n",
    "friction_coeff = 1/unit.picosecond\n",
    "timestep = 10*unit.femtosecond\n",
    "integrator = mm.LangevinMiddleIntegrator(temperature, friction_coeff, timestep)\n",
    "init_coord = app.PDBFile('hp1alpha_dimer_CA.pdb').getPositions()\n",
    "protein.set_simulation(integrator, platform_name, init_coord=init_coord)\n",
    "protein.simulation.minimizeEnergy()\n",
    "output_interval = 100\n",
    "output_dcd = 'output_dimer.dcd'\n",
    "protein.add_reporters(output_interval, output_dcd)\n",
    "protein.simulation.context.setVelocitiesToTemperature(temperature)\n",
    "protein.simulation.step(500)"
   ]
  }
 ],
 "metadata": {
  "kernelspec": {
   "display_name": "Python 3 (ipykernel)",
   "language": "python",
   "name": "python3"
  },
  "language_info": {
   "codemirror_mode": {
    "name": "ipython",
    "version": 3
   },
   "file_extension": ".py",
   "mimetype": "text/x-python",
   "name": "python",
   "nbconvert_exporter": "python",
   "pygments_lexer": "ipython3",
   "version": "3.9.16"
  },
  "latex_envs": {
   "LaTeX_envs_menu_present": true,
   "autoclose": false,
   "autocomplete": true,
   "bibliofile": "biblio.bib",
   "cite_by": "apalike",
   "current_citInitial": 1,
   "eqLabelWithNumbers": true,
   "eqNumInitial": 1,
   "hotkeys": {
    "equation": "Ctrl-E",
    "itemize": "Ctrl-I"
   },
   "labels_anchors": false,
   "latex_user_defs": false,
   "report_style_numbering": false,
   "user_envs_cfg": false
  },
  "toc": {
   "base_numbering": 1,
   "nav_menu": {},
   "number_sections": true,
   "sideBar": true,
   "skip_h1_title": false,
   "title_cell": "Table of Contents",
   "title_sidebar": "Contents",
   "toc_cell": false,
   "toc_position": {},
   "toc_section_display": true,
   "toc_window_display": false
  }
 },
 "nbformat": 4,
 "nbformat_minor": 4
}
