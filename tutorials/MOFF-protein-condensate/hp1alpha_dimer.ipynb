{
 "cells": [
  {
   "attachments": {},
   "cell_type": "markdown",
   "metadata": {},
   "source": [
    "# Tutorial for MOFF single HP1alpha dimer simulation."
   ]
  },
  {
   "cell_type": "code",
   "execution_count": null,
   "metadata": {},
   "outputs": [],
   "source": [
    "# load packages\n",
    "import numpy as np\n",
    "import pandas as pd\n",
    "import sys\n",
    "try:\n",
    "    import openmm as mm\n",
    "    import openmm.app as app\n",
    "    import openmm.unit as unit\n",
    "except ImportError:\n",
    "    import simtk.openmm as mm\n",
    "    import simtk.openmm.app as app\n",
    "    import simtk.unit as unit\n",
    "import mdtraj\n",
    "try:\n",
    "    import nglview\n",
    "except ImportError:\n",
    "    print('Please install nglview to visualize molecules in the jupyter notebooks.')\n",
    "\n",
    "sys.path.append('../../')\n",
    "from openabc.forcefields.parsers import MOFFParser\n",
    "from openabc.forcefields import MOFFMRGModel\n",
    "\n",
    "# set simulation platform\n",
    "platform_name = 'CPU'"
   ]
  },
  {
   "attachments": {},
   "cell_type": "markdown",
   "metadata": {},
   "source": [
    "We simulate a single HP1alpha dimer with MOFF force field. We start from the atomistic model (hp1a.pdb) to build the CA model and apply MOFF force field. For your reference, we also provide hp1a.itp file, which is the GROMACS topology file. "
   ]
  },
  {
   "cell_type": "code",
   "execution_count": null,
   "metadata": {},
   "outputs": [],
   "source": [
    "hp1alpha_dimer_parser = MOFFParser.from_atomistic_pdb('input-pdb/hp1a.pdb', 'hp1alpha_dimer_CA.pdb')\n",
    "\n",
    "pdb = mdtraj.load_pdb('input-pdb/hp1a.pdb')\n",
    "print('Show HP1alpha dimer all-atom structure.')\n",
    "pdb.xyz -= np.mean(pdb.xyz, axis=1, keepdims=True) # realign to the origin\n",
    "view = nglview.show_mdtraj(pdb)\n",
    "view"
   ]
  },
  {
   "cell_type": "code",
   "execution_count": null,
   "metadata": {},
   "outputs": [],
   "source": [
    "pdb = mdtraj.load_pdb('hp1alpha_dimer_CA.pdb')\n",
    "print('Show HP1alpha dimer CG structure.')\n",
    "pdb.xyz -= np.mean(pdb.xyz, axis=1, keepdims=True) # realign to the origin\n",
    "view = nglview.show_mdtraj(pdb)\n",
    "view"
   ]
  },
  {
   "attachments": {},
   "cell_type": "markdown",
   "metadata": {},
   "source": [
    "As shadow algorithm will find redundnat native pairs within disordered domains, we need to remove those redundant pairs. We only keep native pairs within CD, CSD, or between two CSDs. The CD domain is 17-72, and CSD domain is 115-176 (here indices start from 1), and there are 191 residues in each chain."
   ]
  },
  {
   "cell_type": "code",
   "execution_count": null,
   "metadata": {},
   "outputs": [],
   "source": [
    "old_native_pairs = hp1alpha_dimer_parser.native_pairs.copy()\n",
    "new_native_pairs = pd.DataFrame(columns=old_native_pairs.columns)\n",
    "cd1 = np.arange(16, 72)\n",
    "csd1 = np.arange(114, 176)\n",
    "n_atoms_per_hp1alpha_dimer = len(hp1alpha_dimer_parser.atoms.index)\n",
    "print(f'There are {n_atoms_per_hp1alpha_dimer} CA atoms in each HP1alpha dimer.')\n",
    "cd2 = cd1 + int(n_atoms_per_hp1alpha_dimer/2)\n",
    "csd2 = csd1 + int(n_atoms_per_hp1alpha_dimer/2)\n",
    "for i, row in old_native_pairs.iterrows():\n",
    "    a1, a2 = int(row['a1']), int(row['a2'])\n",
    "    if a1 > a2:\n",
    "        a1, a2 = a2, a1\n",
    "    flag1 = ((a1 in cd1) and (a2 in cd1)) or ((a1 in csd1) and (a2 in csd1))\n",
    "    flag2 = ((a1 in cd2) and (a2 in cd2)) or ((a1 in csd2) and (a2 in csd2))\n",
    "    flag3 = ((a1 in csd1) and (a2 in csd2))\n",
    "    if flag1 or flag2 or flag3:\n",
    "        new_native_pairs.loc[len(new_native_pairs.index)] = row\n",
    "hp1alpha_dimer_parser.native_pairs = new_native_pairs\n",
    "hp1alpha_dimer_parser.parse_exclusions() # update exclusions based on the new native pairs"
   ]
  },
  {
   "attachments": {},
   "cell_type": "markdown",
   "metadata": {},
   "source": [
    "We can read the bonded interactin parameters, which are pandas dataframes set as attributes of `hp1alpha_dimer_parser`. \n",
    "\n",
    "We print the first 5 rows of protein bonds, angles, dihedrals, and native pairs to take a look."
   ]
  },
  {
   "cell_type": "code",
   "execution_count": null,
   "metadata": {},
   "outputs": [],
   "source": [
    "print(hp1alpha_dimer_parser.protein_bonds.head())\n",
    "print(hp1alpha_dimer_parser.protein_angles.head())\n",
    "print(hp1alpha_dimer_parser.protein_dihedrals.head())\n",
    "print(hp1alpha_dimer_parser.native_pairs.head())"
   ]
  },
  {
   "attachments": {},
   "cell_type": "markdown",
   "metadata": {},
   "source": [
    "Now we can do the simulation. We append `hp1alpha_dimer_parser` to `protein`, and object `protein` includes `protein_bonds`, `protein_angles`, `protein_dihedrals`, and `native_pairs` as attributes. Note we use stronger native pairs (epsilon = 6.0 instead of 3.0). We directly change the epsilon parameter in `protein.native_pairs`. "
   ]
  },
  {
   "cell_type": "code",
   "execution_count": null,
   "metadata": {},
   "outputs": [],
   "source": [
    "protein = MOFFMRGModel()\n",
    "protein.append_mol(hp1alpha_dimer_parser)\n",
    "protein.native_pairs.loc[:, 'epsilon'] = 6.0\n",
    "top = app.PDBFile('hp1alpha_dimer_CA.pdb').getTopology()\n",
    "protein.create_system(top, box_a=50, box_b=50, box_c=50)\n",
    "salt_conc = 82*unit.millimolar\n",
    "temperature = 300*unit.kelvin\n",
    "protein.add_protein_bonds(force_group=1)\n",
    "protein.add_protein_angles(force_group=2, verbose=False)\n",
    "protein.add_protein_dihedrals(force_group=3)\n",
    "protein.add_native_pairs(force_group=4)\n",
    "protein.add_contacts(force_group=5)\n",
    "protein.add_elec_switch(salt_conc, temperature, force_group=6)\n",
    "protein.save_system('hp1alpha_dimer_CA_system.xml')\n",
    "friction_coeff = 1/unit.picosecond\n",
    "timestep = 10*unit.femtosecond\n",
    "integrator = mm.LangevinMiddleIntegrator(temperature, friction_coeff, timestep)\n",
    "init_coord = app.PDBFile('hp1alpha_dimer_CA.pdb').getPositions()\n",
    "protein.set_simulation(integrator, platform_name, init_coord=init_coord)\n",
    "protein.simulation.minimizeEnergy()\n",
    "output_interval = 100\n",
    "output_dcd = 'output_dimer.dcd'\n",
    "protein.add_reporters(output_interval, output_dcd)\n",
    "protein.simulation.context.setVelocitiesToTemperature(temperature)\n",
    "protein.simulation.step(500)"
   ]
  },
  {
   "cell_type": "code",
   "execution_count": null,
   "metadata": {},
   "outputs": [],
   "source": [
    "# view trajectory\n",
    "traj = mdtraj.load_dcd('output_dimer.dcd', top='hp1alpha_dimer_CA.pdb')\n",
    "traj.xyz -= np.mean(traj.xyz, axis=1, keepdims=True) # realign to the origin\n",
    "view = nglview.show_mdtraj(traj)\n",
    "view"
   ]
  },
  {
   "attachments": {},
   "cell_type": "markdown",
   "metadata": {},
   "source": [
    "One useful setting is to apply rigid bodies. We use HP1alpha dimer as an example to show how to manipulate rigid body with our tool. The rigid body code is written by Peter Eastman, and we provide useful methods to help remove bonded interactions within the rigid body and make the simulation more efficient. The rigid body is realized by representing each rigid body with few real sites and certain restraints, while viewing the rest atoms as virtual sites.\n",
    "\n",
    "In the following sessions, we rigidize each CD domain and two CSDs together (i.e. 3 rigid bodies in all) based on the native configuration. All the bonded interactions (bonds, angles, and dihedrals) within each rigid body will be removed to save computational resources. Additionally we do not need to add native pairs as they are all within the rigid bodies. "
   ]
  },
  {
   "cell_type": "code",
   "execution_count": null,
   "metadata": {},
   "outputs": [],
   "source": [
    "protein = MOFFMRGModel()\n",
    "protein.append_mol(hp1alpha_dimer_parser)\n",
    "top = app.PDBFile('hp1alpha_dimer_CA.pdb').getTopology()\n",
    "protein.create_system(top, box_a=50, box_b=50, box_c=50)\n",
    "init_coord = app.PDBFile('hp1alpha_dimer_CA.pdb').getPositions()\n",
    "rigid_coord = init_coord # set rigid body coordinates\n",
    "rigid_bodies = [cd1.tolist(), cd2.tolist(), csd1.tolist() + csd2.tolist()] # 3 rigid bodies\n",
    "protein.set_rigid_bodies(rigid_coord, rigid_bodies)\n",
    "salt_conc = 82*unit.millimolar\n",
    "temperature = 300*unit.kelvin\n",
    "protein.add_protein_bonds(force_group=1)\n",
    "protein.add_protein_angles(force_group=2, verbose=False)\n",
    "protein.add_protein_dihedrals(force_group=3)\n",
    "protein.add_contacts(force_group=4)\n",
    "protein.add_elec_switch(salt_conc, temperature, force_group=5)\n",
    "protein.save_system('rigid_hp1alpha_dimer_CA_system.xml')\n",
    "friction_coeff = 1/unit.picosecond\n",
    "timestep = 10*unit.femtosecond\n",
    "integrator = mm.LangevinMiddleIntegrator(temperature, friction_coeff, timestep)\n",
    "init_coord = app.PDBFile('hp1alpha_dimer_CA.pdb').getPositions()\n",
    "protein.set_simulation(integrator, platform_name, init_coord=init_coord)\n",
    "protein.simulation.minimizeEnergy()\n",
    "output_interval = 100\n",
    "output_dcd = 'output_dimer.dcd'\n",
    "protein.add_reporters(output_interval, output_dcd)\n",
    "protein.simulation.context.setVelocitiesToTemperature(temperature)\n",
    "protein.simulation.step(500)"
   ]
  }
 ],
 "metadata": {
  "kernelspec": {
   "display_name": "Python 3 (ipykernel)",
   "language": "python",
   "name": "python3"
  },
  "language_info": {
   "codemirror_mode": {
    "name": "ipython",
    "version": 3
   },
   "file_extension": ".py",
   "mimetype": "text/x-python",
   "name": "python",
   "nbconvert_exporter": "python",
   "pygments_lexer": "ipython3",
   "version": "3.9.16"
  },
  "latex_envs": {
   "LaTeX_envs_menu_present": true,
   "autoclose": false,
   "autocomplete": true,
   "bibliofile": "biblio.bib",
   "cite_by": "apalike",
   "current_citInitial": 1,
   "eqLabelWithNumbers": true,
   "eqNumInitial": 1,
   "hotkeys": {
    "equation": "Ctrl-E",
    "itemize": "Ctrl-I"
   },
   "labels_anchors": false,
   "latex_user_defs": false,
   "report_style_numbering": false,
   "user_envs_cfg": false
  },
  "toc": {
   "base_numbering": 1,
   "nav_menu": {},
   "number_sections": true,
   "sideBar": true,
   "skip_h1_title": false,
   "title_cell": "Table of Contents",
   "title_sidebar": "Contents",
   "toc_cell": false,
   "toc_position": {},
   "toc_section_display": true,
   "toc_window_display": false
  }
 },
 "nbformat": 4,
 "nbformat_minor": 4
}
