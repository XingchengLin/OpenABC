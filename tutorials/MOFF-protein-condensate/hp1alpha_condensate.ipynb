{
 "cells": [
  {
   "attachments": {},
   "cell_type": "markdown",
   "metadata": {},
   "source": [
    "# Tutorial for HP1alpha dimer slab simulation."
   ]
  },
  {
   "cell_type": "code",
   "execution_count": null,
   "metadata": {},
   "outputs": [],
   "source": [
    "# load packages\n",
    "import numpy as np\n",
    "import pandas as pd\n",
    "import sys\n",
    "import os\n",
    "try:\n",
    "    import openmm as mm\n",
    "    import openmm.app as app\n",
    "    import openmm.unit as unit\n",
    "except ImportError:\n",
    "    import simtk.openmm as mm\n",
    "    import simtk.openmm.app as app\n",
    "    import simtk.unit as unit\n",
    "\n",
    "import mdtraj\n",
    "try:\n",
    "    import nglview\n",
    "except ImportError:\n",
    "    print('Please install nglview to visualize molecules in the jupyter notebooks.')\n",
    "\n",
    "sys.path.append('../../')\n",
    "from openabc.forcefields.parsers import MOFFParser\n",
    "from openabc.forcefields import MOFFMRGModel\n",
    "import openabc.utils.helper_functions as helper_functions\n",
    "from openabc.utils.insert import insert_molecules\n",
    "from openabc.utils.CA2AA import multiple_chains_CA2AA\n",
    "\n",
    "# set simulation platform\n",
    "platform_name = 'CPU'"
   ]
  },
  {
   "attachments": {},
   "cell_type": "markdown",
   "metadata": {},
   "source": [
    "## 1. Build a single HP1alpha dimer"
   ]
  },
  {
   "attachments": {},
   "cell_type": "markdown",
   "metadata": {},
   "source": [
    "Following steps in single_hp1alpha_dimer.ipynb, we first build a single hp1alpha dimer by processing topological information from an initial input PDB file."
   ]
  },
  {
   "cell_type": "code",
   "execution_count": null,
   "metadata": {},
   "outputs": [],
   "source": [
    "hp1alpha_dimer_parser = MOFFParser.from_atomistic_pdb('input-pdb/hp1a.pdb', 'hp1alpha_dimer_CA.pdb')\n",
    "\n",
    "old_native_pairs = hp1alpha_dimer_parser.native_pairs.copy()\n",
    "new_native_pairs = pd.DataFrame(columns=old_native_pairs.columns)\n",
    "cd1 = np.arange(16, 72)\n",
    "csd1 = np.arange(114, 176)\n",
    "n_atoms_per_hp1alpha_dimer = len(hp1alpha_dimer_parser.atoms.index)\n",
    "print(f'There are {n_atoms_per_hp1alpha_dimer} CA atoms in each HP1alpha dimer.')\n",
    "cd2 = cd1 + int(n_atoms_per_hp1alpha_dimer/2)\n",
    "csd2 = csd1 + int(n_atoms_per_hp1alpha_dimer/2)\n",
    "for i, row in old_native_pairs.iterrows():\n",
    "    a1, a2 = int(row['a1']), int(row['a2'])\n",
    "    if a1 > a2:\n",
    "        a1, a2 = a2, a1\n",
    "    flag1 = ((a1 in cd1) and (a2 in cd1)) or ((a1 in csd1) and (a2 in csd1))\n",
    "    flag2 = ((a1 in cd2) and (a2 in cd2)) or ((a1 in csd2) and (a2 in csd2))\n",
    "    flag3 = ((a1 in csd1) and (a2 in csd2))\n",
    "    if flag1 or flag2 or flag3:\n",
    "        new_native_pairs.loc[len(new_native_pairs.index)] = row\n",
    "hp1alpha_dimer_parser.native_pairs = new_native_pairs\n",
    "hp1alpha_dimer_parser.parse_exclusions() # update exclusions based on the new native pairs"
   ]
  },
  {
   "attachments": {},
   "cell_type": "markdown",
   "metadata": {},
   "source": [
    "## 2. Setup and perform slab simulations of 20 HP1alpha dimers."
   ]
  },
  {
   "attachments": {},
   "cell_type": "markdown",
   "metadata": {},
   "source": [
    "We now show the steps for setting up and performing slab simulations. To save computational time, we only included 20 HP1alpha dimers in the system. To study phase behaviors and avoid finite-size effects, you should use more molecules (~100).\n",
    "\n",
    "First, we randomly place 20 dimers in a cubic box of 50x50x50 nm^3 in size. "
   ]
  },
  {
   "cell_type": "code",
   "execution_count": null,
   "metadata": {},
   "outputs": [],
   "source": [
    "n_mol = 20\n",
    "insert_molecules('hp1alpha_dimer_CA.pdb', 'start.pdb', n_mol, box=[50, 50, 50])"
   ]
  },
  {
   "cell_type": "code",
   "execution_count": null,
   "metadata": {},
   "outputs": [],
   "source": [
    "# visualize start.pdb\n",
    "pdb = mdtraj.load_pdb('start.pdb')\n",
    "print('Show start.pdb structure.')\n",
    "view = nglview.show_mdtraj(pdb)\n",
    "view"
   ]
  },
  {
   "attachments": {},
   "cell_type": "markdown",
   "metadata": {},
   "source": [
    "Next, we compress the system with an NPT simulation to create a dense protein-phase. To save computational time, we set the simulation steps as 200 in the Notebook. However, 2,000,000 steps is recommended to fully compress the system \n",
    "\n",
    "Note the NPT compression is performed under 1 bar and 150 K. However, the parameters for electrostatic interactions are defined based on 300 K. Since the compression is only used for producing an initial configuration, this inconsistency does not impact results of further slab simulations."
   ]
  },
  {
   "cell_type": "code",
   "execution_count": null,
   "metadata": {
    "collapsed": true,
    "jupyter": {
     "outputs_hidden": true
    },
    "tags": []
   },
   "outputs": [],
   "source": [
    "multi_dimers = MOFFMRGModel()\n",
    "for i in range(n_mol):\n",
    "    # append multiple hp1alpha dimer parser instances\n",
    "    multi_dimers.append_mol(hp1alpha_dimer_parser)\n",
    "multi_dimers.native_pairs.loc[:, 'epsilon'] = 6.0\n",
    "\n",
    "box_a, box_b, box_c = 50, 50, 50\n",
    "top = app.PDBFile('start.pdb').getTopology()\n",
    "multi_dimers.create_system(top, box_a=box_a, box_b=box_b, box_c=box_c)\n",
    "init_coord = app.PDBFile('start.pdb').getPositions()\n",
    "salt_conc = 82*unit.millimolar\n",
    "\n",
    "multi_dimers.add_protein_bonds(force_group=1)\n",
    "multi_dimers.add_protein_angles(force_group=2, verbose=False)\n",
    "multi_dimers.add_protein_dihedrals(force_group=3)\n",
    "multi_dimers.add_native_pairs(force_group=4)\n",
    "multi_dimers.add_contacts(force_group=5)\n",
    "multi_dimers.add_elec_switch(salt_conc, temperature=300*unit.kelvin, force_group=6)\n",
    "\n",
    "# follow the example provided by OpenMM user guide, use LangevinMiddleIntegrator and MonteCarloBarostat to perform NPT simulation\n",
    "pressure = 1*unit.bar\n",
    "temperature = 150*unit.kelvin\n",
    "multi_dimers.system.addForce(mm.MonteCarloBarostat(pressure, temperature))\n",
    "friction_coeff = 1/unit.picosecond\n",
    "timestep = 10*unit.femtosecond\n",
    "integrator = mm.LangevinMiddleIntegrator(temperature, friction_coeff, timestep)\n",
    "multi_dimers.set_simulation(integrator, platform_name, init_coord=init_coord)\n",
    "multi_dimers.simulation.minimizeEnergy()\n",
    "output_interval = 100\n",
    "output_dcd = 'output_NPT.dcd'\n",
    "multi_dimers.add_reporters(output_interval, output_dcd)\n",
    "multi_dimers.simulation.context.setVelocitiesToTemperature(temperature)\n",
    "multi_dimers.simulation.step(200)\n",
    "    "
   ]
  },
  {
   "attachments": {},
   "cell_type": "markdown",
   "metadata": {},
   "source": [
    "From the compressed configuration, we can perform slab simulations at constant temperature and volume by fixing the box length at x and y direction, while extending long the z-axis. For example, the NPT simulation produced a configuration of approximately 15x15x15 nm^3 in size. Therefore, we set the slab simulation box size as 15x15x200 nm^3. The z-axis length was chosen to be large enough to create a liquid-vapor interface. In the meantime, too large a value may slow down the exchange of protein molecules between dense and dilute phases, hindering equilibration. Therefore, the box size is a system-dependent parameter that needs to be adjusted based on results from the NPT simulation.\n",
    "\n",
    "In the following example, we did not use the configuration produced from the above NPT simulation, which is too short to fully compress the system. Instead, we used a trajectory produced from a much longer simulation: \"NPT-output-files/NPT_compress.dcd\". "
   ]
  },
  {
   "cell_type": "code",
   "execution_count": null,
   "metadata": {
    "collapsed": true,
    "jupyter": {
     "outputs_hidden": true
    },
    "tags": []
   },
   "outputs": [],
   "source": [
    "# set slab simulation box size\n",
    "box_a = 15\n",
    "box_b = 15\n",
    "box_c = 200\n",
    "\n",
    "# load trajectory and get the compressed configuration\n",
    "# for easier visualization, we move the geometric center of all the atoms to the box center\n",
    "npt_traj = mdtraj.load_dcd('NPT-output-files/NPT_compress.dcd', top='start.pdb')\n",
    "init_coord = npt_traj.xyz[-1]\n",
    "init_coord -= np.mean(init_coord, axis=0)\n",
    "init_coord += 0.5*np.array([box_a, box_b, box_c])\n",
    "\n",
    "# we have to rebuild the system as this time there is no MonteCarloBarostat in it\n",
    "multi_dimers = MOFFMRGModel()\n",
    "\n",
    "for i in range(n_mol):\n",
    "    # append multiple hp1alpha dimer parser instances\n",
    "    multi_dimers.append_mol(hp1alpha_dimer_parser)\n",
    "\n",
    "multi_dimers.native_pairs.loc[:, 'epsilon'] = 6.0\n",
    "\n",
    "top = app.PDBFile('start.pdb').getTopology()\n",
    "multi_dimers.create_system(top, box_a=box_a, box_b=box_b, box_c=box_c)\n",
    "salt_conc = 82*unit.millimolar\n",
    "temperature = 300*unit.kelvin\n",
    "multi_dimers.add_protein_bonds(force_group=1)\n",
    "multi_dimers.add_protein_angles(force_group=2, verbose=False)\n",
    "multi_dimers.add_protein_dihedrals(force_group=3)\n",
    "multi_dimers.add_native_pairs(force_group=4)\n",
    "multi_dimers.add_contacts(force_group=5)\n",
    "multi_dimers.add_elec_switch(salt_conc, temperature, force_group=6)\n",
    "\n",
    "# use Nose-Hoover integrator to accelerate the dynamics\n",
    "collision = 1/unit.picosecond\n",
    "timestep = 5*unit.femtosecond\n",
    "integrator = mm.NoseHooverIntegrator(temperature, collision, timestep)\n",
    "multi_dimers.set_simulation(integrator, platform_name, init_coord=init_coord)\n",
    "multi_dimers.simulation.minimizeEnergy()\n",
    "output_interval = 100\n",
    "output_dcd = 'output_slab.dcd'\n",
    "multi_dimers.add_reporters(output_interval, output_dcd)\n",
    "multi_dimers.simulation.context.setVelocitiesToTemperature(temperature)\n",
    "multi_dimers.simulation.step(200)"
   ]
  },
  {
   "cell_type": "code",
   "execution_count": null,
   "metadata": {},
   "outputs": [],
   "source": [
    "# visualize compression trajectory\n",
    "print('Show HP1alpha dimer NPT compression trajectory.')\n",
    "npt_traj.xyz -= np.mean(npt_traj.xyz, axis=1, keepdims=True) # realign to the origin\n",
    "view = nglview.show_mdtraj(npt_traj)\n",
    "view"
   ]
  },
  {
   "attachments": {},
   "cell_type": "markdown",
   "metadata": {},
   "source": [
    "## 3. Convert coarse-grained to all-atom configurations"
   ]
  },
  {
   "attachments": {},
   "cell_type": "markdown",
   "metadata": {},
   "source": [
    "To facilitate explicit-solvent atomistic simulations of condensate, we provide tools for converting the coarse-grained structures to atomistic ones. \n",
    "\n",
    "The conversion uses the software, REMO, which can be downloaded from [REMO](https://zhanggroup.org/REMO/REMO.v3.tar.bz2). By default, we installed the software in openabc/utils folder. If you put it in other places, please specify the REMO path in `multiple_chains_CA2AA` with the parameter `REMO_path`. REMO is not included in this GitHub repository due to copyright reasons. "
   ]
  },
  {
   "cell_type": "code",
   "execution_count": null,
   "metadata": {},
   "outputs": [],
   "source": [
    "run_convert = False # set to True if you want to run this part, which is time consuming\n",
    "\n",
    "if run_convert:\n",
    "    # start from the final snapshot of the previous short slab NVT trajectory\n",
    "    state = multi_dimers.simulation.context.getState(getPositions=True, enforcePeriodicBox=True)\n",
    "    positions = np.array(state.getPositions().value_in_unit(unit.nanometer))\n",
    "\n",
    "    # write CA pdb with the target positions\n",
    "    df_atoms = helper_functions.parse_pdb('start.pdb')\n",
    "    df_atoms.loc[:, ['x', 'y', 'z']] = positions*10 # convert nm to A\n",
    "    helper_functions.write_pdb(df_atoms, 'slab_NVT_relaxed.pdb')\n",
    "\n",
    "    # convert CA pdb to AA pdb\n",
    "    # note each molecule has 2 monomers, and each monomer has 191 residues\n",
    "    # thus there are 2*n_mol chains, and each chain has 191 residues\n",
    "    multiple_chains_CA2AA('slab_NVT_relaxed.pdb', [2*n_mol], [191])\n",
    "    \n",
    "    # show all-aton structure\n",
    "    pdb = mdtraj.load_pdb('slab_NVT_relaxed_AA.pdb')\n",
    "    print('Show HP1alpha dimer condensate all-atom structure.')\n",
    "    view = nglview.show_mdtraj(pdb)\n",
    "    view"
   ]
  },
  {
   "attachments": {},
   "cell_type": "markdown",
   "metadata": {},
   "source": [
    "After conversion, you can run all-atom simulations with your favorite software. "
   ]
  }
 ],
 "metadata": {
  "kernelspec": {
   "display_name": "Python [conda env:.conda-py39]",
   "language": "python",
   "name": "conda-env-.conda-py39-py"
  },
  "language_info": {
   "codemirror_mode": {
    "name": "ipython",
    "version": 3
   },
   "file_extension": ".py",
   "mimetype": "text/x-python",
   "name": "python",
   "nbconvert_exporter": "python",
   "pygments_lexer": "ipython3",
   "version": "3.9.16"
  },
  "vscode": {
   "interpreter": {
    "hash": "95d07581651f3c45a5651aa035df7e4a83b5587ddccf2e46662da40695cb8d28"
   }
  }
 },
 "nbformat": 4,
 "nbformat_minor": 4
}
