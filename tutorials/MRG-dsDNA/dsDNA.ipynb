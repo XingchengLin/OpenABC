{
 "cells": [
  {
   "attachments": {},
   "cell_type": "markdown",
   "metadata": {},
   "source": [
    "# Tutorial for setting up and simulating dsDNA with MRG-CG DNA model"
   ]
  },
  {
   "cell_type": "code",
   "execution_count": null,
   "metadata": {},
   "outputs": [],
   "source": [
    "# load packages\n",
    "import numpy as np\n",
    "import pandas as pd\n",
    "import sys\n",
    "import os\n",
    "try:\n",
    "    import openmm as mm\n",
    "    import openmm.app as app\n",
    "    import openmm.unit as unit\n",
    "except ImportError:\n",
    "    import simtk.openmm as mm\n",
    "    import simtk.openmm.app as app\n",
    "    import simtk.unit as unit\n",
    "import mdtraj\n",
    "\n",
    "try:\n",
    "    import nglview\n",
    "except ImportError:\n",
    "    print('Please install nglview to visualize molecules in the jupyter notebooks.')\n",
    "\n",
    "sys.path.append('../../')\n",
    "from openabc.forcefields.parsers import MRGdsDNAParser\n",
    "from openabc.forcefields import MOFFMRGModel"
   ]
  },
  {
   "attachments": {},
   "cell_type": "markdown",
   "metadata": {},
   "source": [
    "We simulate a 200 bp dsDNA by MRG-CG DNA model. Similar to MOFF, for dsDNA, we also provide a simple way to parse DNA topology and get all the bonds, angles, fan bonds, etc. Use class `MRGdsDNAParser` to parse each dsDNA. The nonbonded exclusion list includes CG DNA atoms involved in bonds or angles, but those involved in fan bonds are not included. It is important that the parser cannot automatically recognize which nucleotides should be paired, so the input has to be the atomistic model of a single dsDNA with correct nucleotide index so that nucleotide i is paired with nucleotide N - i - 1 (nucleotide index starts from 0 and N is the total number of nucleotides in dsDNA). \n",
    "\n",
    "Also, as the original MRG-CG DNA model is designed with explicit ions, to apply this model with implicit ion, by default we scale all the bonded interaction (bond, angle, and fan bond) force constants by 0.9 to keep correct thermodynamic properties such as the persistence length. "
   ]
  },
  {
   "cell_type": "code",
   "execution_count": null,
   "metadata": {},
   "outputs": [],
   "source": [
    "# parse dsDNA with atomistic model as input\n",
    "dsDNA = MRGdsDNAParser.from_atomistic_pdb('input-pdb/all_atom_200bpDNA.pdb', 'MRG_dsDNA.pdb')"
   ]
  },
  {
   "attachments": {},
   "cell_type": "markdown",
   "metadata": {},
   "source": [
    "Let's take a look at the bonds, angles, and fan bonds. You can see the force constants are scaled. "
   ]
  },
  {
   "cell_type": "code",
   "execution_count": null,
   "metadata": {},
   "outputs": [],
   "source": [
    "print(dsDNA.dna_bonds.head())\n",
    "print(dsDNA.dna_angles.head())\n",
    "print(dsDNA.dna_fan_bonds.head())"
   ]
  },
  {
   "attachments": {},
   "cell_type": "markdown",
   "metadata": {},
   "source": [
    "Now we can build the system and run simulation. We first build an instance of `MOFFMRGModel`, then we append the dsDNA parser instance into it and set up the simulation. "
   ]
  },
  {
   "cell_type": "code",
   "execution_count": null,
   "metadata": {},
   "outputs": [],
   "source": [
    "dna = MOFFMRGModel()\n",
    "dna.append_mol(dsDNA)\n",
    "top = app.PDBFile('MRG_dsDNA.pdb').getTopology()\n",
    "dna.create_system(top, box_a=100, box_b=100, box_c=100)\n",
    "salt_conc = 100*unit.millimolar\n",
    "temperature = 300*unit.kelvin\n",
    "dna.add_dna_bonds(force_group=1)\n",
    "dna.add_dna_angles(force_group=2)\n",
    "dna.add_dna_fan_bonds(force_group=3)\n",
    "dna.add_contacts(force_group=4)\n",
    "dna.add_elec_switch(salt_conc, temperature, force_group=5) # electrostatic interaction depends on salt concentration and temperature\n",
    "dna.save_system('dsDNA.xml')\n",
    "collision = 1/unit.picosecond\n",
    "timestep = 10*unit.femtosecond\n",
    "integrator = mm.NoseHooverIntegrator(temperature, collision, timestep)\n",
    "platform_name = 'CPU'\n",
    "init_coord = app.PDBFile('MRG_dsDNA.pdb').getPositions()\n",
    "dna.set_simulation(integrator, platform_name, init_coord=init_coord)\n",
    "dna.simulation.minimizeEnergy()\n",
    "output_interval = 100\n",
    "output_dcd = 'output.dcd'\n",
    "dna.add_reporters(output_interval, output_dcd)\n",
    "dna.simulation.context.setVelocitiesToTemperature(temperature)\n",
    "dna.simulation.step(500)\n"
   ]
  },
  {
   "cell_type": "code",
   "execution_count": null,
   "metadata": {},
   "outputs": [],
   "source": [
    "# view trajectory\n",
    "traj = mdtraj.load_dcd('output.dcd', top='MRG_dsDNA.pdb')\n",
    "traj.xyz -= np.mean(traj.xyz, axis=1, keepdims=True) # realign to the origin\n",
    "view = nglview.show_mdtraj(traj)\n",
    "view"
   ]
  }
 ],
 "metadata": {
  "kernelspec": {
   "display_name": "Python [conda env:.conda-py39]",
   "language": "python",
   "name": "conda-env-.conda-py39-py"
  },
  "language_info": {
   "codemirror_mode": {
    "name": "ipython",
    "version": 3
   },
   "file_extension": ".py",
   "mimetype": "text/x-python",
   "name": "python",
   "nbconvert_exporter": "python",
   "pygments_lexer": "ipython3",
   "version": "3.9.16"
  },
  "vscode": {
   "interpreter": {
    "hash": "95d07581651f3c45a5651aa035df7e4a83b5587ddccf2e46662da40695cb8d28"
   }
  }
 },
 "nbformat": 4,
 "nbformat_minor": 4
}
