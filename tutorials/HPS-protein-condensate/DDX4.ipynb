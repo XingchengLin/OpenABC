{
 "cells": [
  {
   "cell_type": "markdown",
   "metadata": {},
   "source": [
    "# Tutorial for HPS single DDX4 "
   ]
  },
  {
   "cell_type": "code",
   "execution_count": 1,
   "metadata": {},
   "outputs": [
    {
     "data": {
      "application/vnd.jupyter.widget-view+json": {
       "model_id": "b7a111b53ee34e5a8773645803b6b9e4",
       "version_major": 2,
       "version_minor": 0
      },
      "text/plain": []
     },
     "metadata": {},
     "output_type": "display_data"
    }
   ],
   "source": [
    "# load packages\n",
    "import numpy as np\n",
    "import pandas as pd\n",
    "import sys\n",
    "try:\n",
    "    import openmm as mm\n",
    "    import openmm.app as app\n",
    "    import openmm.unit as unit\n",
    "except ImportError:\n",
    "    import simtk.openmm as mm\n",
    "    import simtk.openmm.app as app\n",
    "    import simtk.unit as unit\n",
    "import mdtraj\n",
    "try:\n",
    "    import nglview\n",
    "except ImportError:\n",
    "    print('Please install nglview to visualize molecules in the jupyter notebooks.')\n",
    "\n",
    "sys.path.append('../../')\n",
    "from openabc.forcefields.parsers import HPSParser\n",
    "from openabc.forcefields import HPSModel\n",
    "from openabc.utils.helper_functions import build_straight_CA_chain, write_pdb\n",
    "\n",
    "# set simulation platform\n",
    "platform_name = 'CPU'"
   ]
  },
  {
   "cell_type": "markdown",
   "metadata": {},
   "source": [
    "We simulate a DDX4 protein with HPS model. We begin with building a straight CA atom chain with DDX4 sequence. We use `HPSParser` to parse the CA model."
   ]
  },
  {
   "cell_type": "code",
   "execution_count": 2,
   "metadata": {},
   "outputs": [
    {
     "name": "stdout",
     "output_type": "stream",
     "text": [
      "Parse molecule with default settings.\n"
     ]
    }
   ],
   "source": [
    "sequence = 'MGDEDWEAEINPHMSSYVPIFEKDRYSGENGDNFNRTPASSSEMDDGPSRRDHFMKSGFASGRNFGNRDAGECNKRDNTSTMGGFGVGKSFGNRGFSNSRFEDGDSSGFWRESSNDCEDNPTRNRGFSKRGGYRDGNNSEASGPYRRGGRGSFRGCRGGFGLGSPNNDLDPDECMQRTGGLFGSRRPVLSGTGNGDTSQSRSGSGSERGGYKGLNEEVITGSGKNSWKSEAEGGES'\n",
    "ca_pdb = 'init_DDX4_CA.pdb'\n",
    "ca_atoms = build_straight_CA_chain(sequence, r0=0.38)\n",
    "write_pdb(ca_atoms, ca_pdb)\n",
    "protein_parser = HPSParser(ca_pdb)\n",
    "protein = HPSModel()\n",
    "protein.append_mol(protein_parser)"
   ]
  },
  {
   "cell_type": "markdown",
   "metadata": {},
   "source": [
    "Use the Urry scale optimal parameter ($\\mu=1$ and $\\Delta=0.08$) and run the simulation. "
   ]
  },
  {
   "cell_type": "code",
   "execution_count": 3,
   "metadata": {},
   "outputs": [
    {
     "name": "stdout",
     "output_type": "stream",
     "text": [
      "Add protein bonds.\n",
      "Add nonbonded contacts.\n",
      "Use Urry hydropathy scale.\n",
      "Scale factor mu = 1 and shift delta = 0.08.\n",
      "Add Debye-Huckel electrostatic interactions.\n",
      "Set Debye length as 1 nm.\n",
      "Set water dielectric as 80.0.\n",
      "Use platform: CPU\n",
      "#\"Step\",\"Time (ps)\",\"Potential Energy (kJ/mole)\",\"Kinetic Energy (kJ/mole)\",\"Total Energy (kJ/mole)\",\"Temperature (K)\",\"Speed (ns/day)\"\n",
      "100,1.0000000000000007,426.4861149069394,864.7997214241839,1291.2858363311234,295.0680826552625,0\n",
      "200,2.0000000000000013,494.52917464130536,807.7471804554941,1302.2763550967995,275.60186006384146,453\n",
      "300,2.99999999999998,543.3895317584377,819.7461130785344,1363.135644836972,279.69587392078347,457\n",
      "400,3.9999999999999587,490.5923645594664,851.3156034074129,1341.9079679668794,290.4673262593729,457\n",
      "500,4.999999999999938,594.9643276032544,872.0971948033958,1467.0615224066503,297.55796722031056,460\n"
     ]
    }
   ],
   "source": [
    "top = app.PDBFile(ca_pdb).getTopology()\n",
    "init_coord = app.PDBFile(ca_pdb).getPositions()\n",
    "protein.create_system(top)\n",
    "protein.add_protein_bonds(force_group=1)\n",
    "protein.add_contacts('Urry', mu=1, delta=0.08, force_group=2)\n",
    "protein.add_dh_elec(force_group=3)\n",
    "temperature = 300*unit.kelvin\n",
    "friction_coeff = 1/unit.picosecond\n",
    "timestep = 10*unit.femtosecond\n",
    "integrator = mm.LangevinMiddleIntegrator(temperature, friction_coeff, timestep)\n",
    "platform_name = 'CPU'\n",
    "protein.set_simulation(integrator, platform_name, init_coord=init_coord)\n",
    "protein.simulation.minimizeEnergy()\n",
    "output_interval = 100\n",
    "output_dcd = 'output_single_DDX4.dcd'\n",
    "protein.add_reporters(output_interval, output_dcd)\n",
    "protein.simulation.context.setVelocitiesToTemperature(temperature)\n",
    "protein.simulation.step(500)"
   ]
  },
  {
   "cell_type": "code",
   "execution_count": 4,
   "metadata": {},
   "outputs": [
    {
     "name": "stdout",
     "output_type": "stream",
     "text": [
      "Show HP1alpha dimer slab simulation trajectory.\n"
     ]
    }
   ],
   "source": [
    "try:\n",
    "    traj = mdtraj.load_dcd(output_dcd, top=ca_pdb)\n",
    "    nglview.show_mdtraj(traj)\n",
    "    print('Show HP1alpha dimer slab simulation trajectory.')\n",
    "except NameError:\n",
    "    print('Please install nglview to visualize molecules in the jupyter notebooks.')"
   ]
  }
 ],
 "metadata": {
  "kernelspec": {
   "display_name": "Python [conda env:.conda-py39]",
   "language": "python",
   "name": "conda-env-.conda-py39-py"
  },
  "language_info": {
   "codemirror_mode": {
    "name": "ipython",
    "version": 3
   },
   "file_extension": ".py",
   "mimetype": "text/x-python",
   "name": "python",
   "nbconvert_exporter": "python",
   "pygments_lexer": "ipython3",
   "version": "3.9.16"
  },
  "vscode": {
   "interpreter": {
    "hash": "95d07581651f3c45a5651aa035df7e4a83b5587ddccf2e46662da40695cb8d28"
   }
  }
 },
 "nbformat": 4,
 "nbformat_minor": 4
}
