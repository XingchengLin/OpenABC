{
 "cells": [
  {
   "cell_type": "markdown",
   "metadata": {},
   "source": [
    "# Tutorial for HPS multiple DDX4 "
   ]
  },
  {
   "cell_type": "code",
   "execution_count": 6,
   "metadata": {},
   "outputs": [],
   "source": [
    "# load packages\n",
    "import numpy as np\n",
    "import pandas as pd\n",
    "import sys\n",
    "import os\n",
    "try:\n",
    "    import openmm as mm\n",
    "    import openmm.app as app\n",
    "    import openmm.unit as unit\n",
    "except ImportError:\n",
    "    import simtk.openmm as mm\n",
    "    import simtk.openmm.app as app\n",
    "    import simtk.unit as unit\n",
    "import mdtraj\n",
    "try:\n",
    "    import nglview\n",
    "except ImportError:\n",
    "    print('Please install nglview to visualize molecules in the jupyter notebooks.')\n",
    "\n",
    "sys.path.append('../../')\n",
    "from openabc.forcefields.parsers import HPSParser\n",
    "from openabc.forcefields import HPSModel\n",
    "from openabc.utils.helper_functions import build_straight_CA_chain, write_pdb\n",
    "from openabc.utils.insert import insert_molecules\n",
    "\n",
    "# set simulation platform\n",
    "platform_name = 'CPU'"
   ]
  },
  {
   "cell_type": "markdown",
   "metadata": {},
   "source": [
    "Parse a single DDX4."
   ]
  },
  {
   "cell_type": "code",
   "execution_count": 7,
   "metadata": {},
   "outputs": [
    {
     "name": "stdout",
     "output_type": "stream",
     "text": [
      "Parse molecule with default settings.\n"
     ]
    }
   ],
   "source": [
    "sequence = 'MGDEDWEAEINPHMSSYVPIFEKDRYSGENGDNFNRTPASSSEMDDGPSRRDHFMKSGFASGRNFGNRDAGECNKRDNTSTMGGFGVGKSFGNRGFSNSRFEDGDSSGFWRESSNDCEDNPTRNRGFSKRGGYRDGNNSEASGPYRRGGRGSFRGCRGGFGLGSPNNDLDPDECMQRTGGLFGSRRPVLSGTGNGDTSQSRSGSGSERGGYKGLNEEVITGSGKNSWKSEAEGGES'\n",
    "ca_pdb = 'init_DDX4_CA.pdb'\n",
    "ca_atoms = build_straight_CA_chain(sequence, r0=0.38)\n",
    "write_pdb(ca_atoms, ca_pdb)\n",
    "protein_parser = HPSParser(ca_pdb)"
   ]
  },
  {
   "cell_type": "markdown",
   "metadata": {},
   "source": [
    "Prepare the initial configuration."
   ]
  },
  {
   "cell_type": "code",
   "execution_count": 8,
   "metadata": {},
   "outputs": [],
   "source": [
    "# insert molecules into the simulation box randomly\n",
    "n_mol = 10\n",
    "if not os.path.exists('start.pdb'):\n",
    "    insert_molecules(ca_pdb, 'start.pdb', n_mol, box=[50, 50, 50])\n"
   ]
  },
  {
   "cell_type": "markdown",
   "metadata": {},
   "source": [
    "Use the Urry scale optimal parameter ($\\mu=1$ and $\\Delta=0.08$) and run the simulation. "
   ]
  },
  {
   "cell_type": "code",
   "execution_count": 9,
   "metadata": {},
   "outputs": [
    {
     "name": "stdout",
     "output_type": "stream",
     "text": [
      "Add protein bonds.\n",
      "Add nonbonded contacts.\n",
      "Use Urry hydropathy scale.\n",
      "Scale factor mu = 1 and shift delta = 0.08.\n",
      "Add Debye-Huckel electrostatic interactions.\n",
      "Set Debye length as 1 nm.\n",
      "Set water dielectric as 80.0.\n",
      "Use platform: CPU\n",
      "#\"Step\",\"Time (ps)\",\"Potential Energy (kJ/mole)\",\"Kinetic Energy (kJ/mole)\",\"Total Energy (kJ/mole)\",\"Temperature (K)\",\"Speed (ns/day)\"\n",
      "100,1.0000000000000007,2600.623669551789,5956.331977768012,8556.9556473198,202.45360304718304,0\n",
      "200,2.0000000000000013,3081.0428007288133,5521.044159836187,8602.086960565,187.6583251090539,323\n",
      "300,2.99999999999998,2912.410144432957,5789.632299945443,8702.0424443784,196.7875403549168,324\n",
      "400,3.9999999999999587,2817.8429803771583,5934.708888941865,8752.551869319022,201.7186419573374,323\n",
      "500,4.999999999999938,2649.3505835466144,6163.174527363165,8812.525110909779,209.48410765728644,321\n"
     ]
    }
   ],
   "source": [
    "protein = HPSModel()\n",
    "for i in range(n_mol):\n",
    "    protein.append_mol(protein_parser)\n",
    "top = app.PDBFile('start.pdb').getTopology()\n",
    "init_coord = app.PDBFile('start.pdb').getPositions()\n",
    "protein.create_system(top)\n",
    "protein.add_protein_bonds(force_group=1)\n",
    "protein.add_contacts('Urry', mu=1, delta=0.08, force_group=2)\n",
    "protein.add_dh_elec(force_group=3)\n",
    "temperature = 300*unit.kelvin\n",
    "friction_coeff = 0.01/unit.picosecond # use smaller friction coefficient to accelerate dynamics\n",
    "timestep = 10*unit.femtosecond\n",
    "integrator = mm.LangevinMiddleIntegrator(temperature, friction_coeff, timestep)\n",
    "platform_name = 'CPU'\n",
    "protein.set_simulation(integrator, platform_name, init_coord=init_coord)\n",
    "protein.simulation.minimizeEnergy()\n",
    "output_interval = 100\n",
    "output_dcd = 'output_multi_DDX4.dcd'\n",
    "protein.add_reporters(output_interval, output_dcd)\n",
    "protein.simulation.context.setVelocitiesToTemperature(temperature)\n",
    "protein.simulation.step(500)"
   ]
  },
  {
   "cell_type": "code",
   "execution_count": 10,
   "metadata": {},
   "outputs": [
    {
     "name": "stdout",
     "output_type": "stream",
     "text": [
      "Show DDX4 simulation trajectory.\n"
     ]
    }
   ],
   "source": [
    "# view trajectory\n",
    "try:\n",
    "    traj = mdtraj.load_dcd(output_dcd, top='start.pdb')\n",
    "    nglview.show_mdtraj(traj)\n",
    "    print('Show DDX4 simulation trajectory.')\n",
    "except NameError:\n",
    "    print('Please install nglview to visualize molecules in the jupyter notebooks.')"
   ]
  }
 ],
 "metadata": {
  "kernelspec": {
   "display_name": "Python [conda env:.conda-py39]",
   "language": "python",
   "name": "conda-env-.conda-py39-py"
  },
  "language_info": {
   "codemirror_mode": {
    "name": "ipython",
    "version": 3
   },
   "file_extension": ".py",
   "mimetype": "text/x-python",
   "name": "python",
   "nbconvert_exporter": "python",
   "pygments_lexer": "ipython3",
   "version": "3.9.16"
  },
  "vscode": {
   "interpreter": {
    "hash": "95d07581651f3c45a5651aa035df7e4a83b5587ddccf2e46662da40695cb8d28"
   }
  }
 },
 "nbformat": 4,
 "nbformat_minor": 4
}
