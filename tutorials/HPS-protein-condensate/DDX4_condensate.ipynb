{
 "cells": [
  {
   "attachments": {},
   "cell_type": "markdown",
   "metadata": {},
   "source": [
    "# Tutorial for HPS multiple DDX4 "
   ]
  },
  {
   "cell_type": "code",
   "execution_count": 5,
   "metadata": {},
   "outputs": [],
   "source": [
    "# load packages\n",
    "import numpy as np\n",
    "import pandas as pd\n",
    "import sys\n",
    "import os\n",
    "import simtk.openmm as mm\n",
    "import simtk.openmm.app as app\n",
    "import simtk.unit as unit\n",
    "\n",
    "sys.path.append('../../')\n",
    "from openabc.forcefields.parsers import HPSParser\n",
    "from openabc.forcefields import HPSModel\n",
    "from openabc.utils.helper_functions import build_straight_CA_chain, write_pdb\n",
    "from openabc.utils.insert import insert_molecules\n",
    "\n",
    "# set simulation platform\n",
    "platform_name = 'CPU'"
   ]
  },
  {
   "attachments": {},
   "cell_type": "markdown",
   "metadata": {},
   "source": [
    "Parse a single DDX4."
   ]
  },
  {
   "cell_type": "code",
   "execution_count": 6,
   "metadata": {},
   "outputs": [
    {
     "name": "stdout",
     "output_type": "stream",
     "text": [
      "Parse molecule with default settings.\n"
     ]
    }
   ],
   "source": [
    "sequence = 'MGDEDWEAEINPHMSSYVPIFEKDRYSGENGDNFNRTPASSSEMDDGPSRRDHFMKSGFASGRNFGNRDAGECNKRDNTSTMGGFGVGKSFGNRGFSNSRFEDGDSSGFWRESSNDCEDNPTRNRGFSKRGGYRDGNNSEASGPYRRGGRGSFRGCRGGFGLGSPNNDLDPDECMQRTGGLFGSRRPVLSGTGNGDTSQSRSGSGSERGGYKGLNEEVITGSGKNSWKSEAEGGES'\n",
    "ca_pdb = 'init_DDX4_CA.pdb'\n",
    "ca_atoms = build_straight_CA_chain(sequence, r0=0.38)\n",
    "write_pdb(ca_atoms, ca_pdb)\n",
    "protein_parser = HPSParser(ca_pdb)"
   ]
  },
  {
   "attachments": {},
   "cell_type": "markdown",
   "metadata": {},
   "source": [
    "Prepare the initial configuration."
   ]
  },
  {
   "cell_type": "code",
   "execution_count": 7,
   "metadata": {},
   "outputs": [],
   "source": [
    "# insert molecules into the simulation box randomly\n",
    "n_mol = 10\n",
    "if not os.path.exists('start.pdb'):\n",
    "    insert_molecules(ca_pdb, 'start.pdb', n_mol, box=[50, 50, 50])\n"
   ]
  },
  {
   "attachments": {},
   "cell_type": "markdown",
   "metadata": {},
   "source": [
    "Use the Urry scale optimal parameter ($\\mu=1$ and $\\Delta=0.08$) and run the simulation. "
   ]
  },
  {
   "cell_type": "code",
   "execution_count": 8,
   "metadata": {},
   "outputs": [
    {
     "name": "stdout",
     "output_type": "stream",
     "text": [
      "Add protein bonds.\n",
      "Add nonbonded contacts.\n",
      "Use Urry hydropathy scale.\n",
      "Scale factor mu = 1 and shift delta = 0.08.\n",
      "Add Debye-Huckel electrostatic interactions.\n",
      "Set Debye length as 1 nm.\n",
      "Set water dielectric as 80.0.\n",
      "Use platform: CPU\n",
      "#\"Step\",\"Time (ps)\",\"Potential Energy (kJ/mole)\",\"Kinetic Energy (kJ/mole)\",\"Total Energy (kJ/mole)\",\"Temperature (K)\",\"Speed (ns/day)\"\n",
      "100,1.0000000000000007,2544.915852478538,5918.722447597788,8463.638300076327,201.17526850836057,0\n",
      "200,2.0000000000000013,2989.8210888020003,5584.903549771207,8574.724638573207,189.82888303446765,63.2\n",
      "300,2.99999999999998,2973.90902640384,5670.936133890659,8644.845160294499,192.7530999349786,60\n",
      "400,3.9999999999999587,2895.28295974863,5824.835176782076,8720.118136530706,197.98407360387,59.3\n",
      "500,4.999999999999938,2752.706858110496,6055.94355098579,8808.650409096286,205.8393649520617,57.9\n"
     ]
    }
   ],
   "source": [
    "protein = HPSModel()\n",
    "for i in range(n_mol):\n",
    "    protein.append_mol(protein_parser)\n",
    "top = app.PDBFile('start.pdb').getTopology()\n",
    "init_coord = app.PDBFile('start.pdb').getPositions()\n",
    "protein.create_system(top)\n",
    "protein.add_protein_bonds(force_group=1)\n",
    "protein.add_contacts('Urry', mu=1, delta=0.08, force_group=2)\n",
    "protein.add_dh_elec(force_group=3)\n",
    "temperature = 300*unit.kelvin\n",
    "friction_coeff = 0.01/unit.picosecond # use smaller friction coefficient to accelerate dynamics\n",
    "timestep = 10*unit.femtosecond\n",
    "integrator = mm.LangevinMiddleIntegrator(temperature, friction_coeff, timestep)\n",
    "platform_name = 'CPU'\n",
    "protein.set_simulation(integrator, platform_name, init_coord=init_coord)\n",
    "protein.simulation.minimizeEnergy()\n",
    "output_interval = 100\n",
    "output_dcd = 'output_multi_DDX4.dcd'\n",
    "protein.add_reporters(output_interval, output_dcd)\n",
    "protein.simulation.context.setVelocitiesToTemperature(temperature)\n",
    "protein.simulation.step(500)"
   ]
  }
 ],
 "metadata": {
  "kernelspec": {
   "display_name": "py38",
   "language": "python",
   "name": "python3"
  },
  "language_info": {
   "codemirror_mode": {
    "name": "ipython",
    "version": 3
   },
   "file_extension": ".py",
   "mimetype": "text/x-python",
   "name": "python",
   "nbconvert_exporter": "python",
   "pygments_lexer": "ipython3",
   "version": "3.9.16"
  },
  "orig_nbformat": 4,
  "vscode": {
   "interpreter": {
    "hash": "95d07581651f3c45a5651aa035df7e4a83b5587ddccf2e46662da40695cb8d28"
   }
  }
 },
 "nbformat": 4,
 "nbformat_minor": 2
}
