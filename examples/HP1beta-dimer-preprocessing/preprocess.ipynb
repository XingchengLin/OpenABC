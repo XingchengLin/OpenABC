{
 "cells": [
  {
   "cell_type": "code",
   "execution_count": 1,
   "metadata": {},
   "outputs": [],
   "source": [
    "import numpy as np\n",
    "import pandas as pd\n",
    "import mdtraj\n",
    "import sys\n",
    "import os\n",
    "\n",
    "sys.path.append('../..')\n",
    "from openabc.forcefields.parsers import MOFFParser\n",
    "from openabc.utils.helper_functions import parse_pdb, write_pdb"
   ]
  },
  {
   "attachments": {},
   "cell_type": "markdown",
   "metadata": {},
   "source": [
    "## Example of how to get native pairs for HP1beta dimer\n",
    "\n",
    "File hp1b_AA.pdb is the built pdb structure. It is composed of two identical monomers. However, because the each C-terminal tail has overlap with CSD from the other monomer, this can affect the native pairs found in CSD by shadow algorithm. \n",
    "\n",
    "To deal with this issue, we first achieve native pairs within each CD and CSD by parsing a monomer, then we achieve native pairs between two CSDs by parsing two CSDs as an integrity. "
   ]
  },
  {
   "cell_type": "code",
   "execution_count": 2,
   "metadata": {},
   "outputs": [
    {
     "name": "stdout",
     "output_type": "stream",
     "text": [
      "Parse configuration with default settings.\n",
      "Get native pairs with shadow algorithm.\n"
     ]
    }
   ],
   "source": [
    "# get monomer and parse monomer\n",
    "hp1beta_dimer = parse_pdb('hp1b_AA.pdb')\n",
    "hp1beta_monomer = hp1beta_dimer.loc[hp1beta_dimer['chainID'] == 'A'].copy()\n",
    "write_pdb(hp1beta_monomer, 'hp1b_AA_monomer.pdb')\n",
    "hp1beta_monomer_parser = MOFFParser.from_atomistic_pdb('hp1b_AA_monomer.pdb', 'hp1b_CA_monomer.pdb')\n",
    "\n",
    "# only keep native pairs within CD and CSD\n",
    "cd = np.arange(20, 79)\n",
    "csd = np.arange(116, 175)\n",
    "hp1beta_monomer_native_pairs = pd.DataFrame(columns=hp1beta_monomer_parser.native_pairs.columns)\n",
    "for i, row in hp1beta_monomer_parser.native_pairs.iterrows():\n",
    "    a1, a2 = int(row['a1']), int(row['a2'])\n",
    "    if a1 > a2:\n",
    "        a1, a2 = a2, a1\n",
    "    if ((a1 in cd) and (a2 in cd)) or ((a1 in csd) and (a2 in csd)):\n",
    "        hp1beta_monomer_native_pairs.loc[len(hp1beta_monomer_native_pairs.index)] = row"
   ]
  },
  {
   "cell_type": "code",
   "execution_count": 3,
   "metadata": {},
   "outputs": [
    {
     "name": "stdout",
     "output_type": "stream",
     "text": [
      "Parse configuration with default settings.\n",
      "Get native pairs with shadow algorithm.\n",
      "Distance between atom 342 and 817 is 0.07814300072265688 nm, which is smaller than the radius (0.1 nm), so we ignore this atom pair. This means maybe the radius is too large or atoms 342 and 817 are too close.\n"
     ]
    }
   ],
   "source": [
    "# get two CSDs as an integrity and parse it to get native pairs between two CSDs\n",
    "hp1beta_dimer_csd = hp1beta_dimer.loc[hp1beta_dimer['resSeq'].isin(csd + 1)].copy()\n",
    "write_pdb(hp1beta_dimer_csd, 'hp1b_AA_dimer_csd.pdb')\n",
    "hp1beta_dimer_csd_parser = MOFFParser.from_atomistic_pdb('hp1b_AA_dimer_csd.pdb', 'hp1b_CA_dimer_csd.pdb')\n",
    "hp1beta_dimer_inter_csd_native_pairs = pd.DataFrame(columns=hp1beta_dimer_csd_parser.native_pairs.columns)\n",
    "\n",
    "for i, row in hp1beta_dimer_csd_parser.native_pairs.iterrows():\n",
    "    a1, a2 = int(row['a1']), int(row['a2'])\n",
    "    if a1 > a2:\n",
    "        a1, a2 = a2, a1\n",
    "    if (a1 < len(csd)) and (a2 >= len(csd)):\n",
    "        hp1beta_dimer_inter_csd_native_pairs.loc[len(hp1beta_dimer_inter_csd_native_pairs.index)] = row\n"
   ]
  },
  {
   "cell_type": "code",
   "execution_count": 4,
   "metadata": {},
   "outputs": [],
   "source": [
    "# combine all the native pairs\n",
    "#print(hp1beta_monomer_native_pairs)\n",
    "#print(hp1beta_dimer_inter_csd_native_pairs)\n",
    "\n",
    "hp1beta_dimer_native_pairs = pd.DataFrame(columns=['a1', 'a2', 'mu'])\n",
    "n_res_each_monomer = len(hp1beta_monomer_parser.atoms.index)\n",
    "for i, row in hp1beta_monomer_native_pairs.iterrows():\n",
    "    a1, a2, mu = int(row['a1']), int(row['a2']), float(row['mu'])\n",
    "    row1 = [a1, a2, mu]\n",
    "    row2 = [a1 + n_res_each_monomer, a2 + n_res_each_monomer, mu]\n",
    "    hp1beta_dimer_native_pairs.loc[len(hp1beta_dimer_native_pairs.index)] = row1\n",
    "    hp1beta_dimer_native_pairs.loc[len(hp1beta_dimer_native_pairs.index)] = row2\n",
    "    \n",
    "for i, row in hp1beta_dimer_inter_csd_native_pairs.iterrows():\n",
    "    a1, a2, mu = int(row['a1']), int(row['a2']), float(row['mu'])\n",
    "    assert ((a1 < len(csd)) and (a2 >= len(csd)))\n",
    "    a1 += 116\n",
    "    a2 += (n_res_each_monomer + 116 - len(csd))\n",
    "    hp1beta_dimer_native_pairs.loc[len(hp1beta_dimer_native_pairs.index)] = [a1, a2, mu]\n",
    "\n",
    "hp1beta_dimer_native_pairs = hp1beta_dimer_native_pairs.sort_values(by=['a1', 'a2'])\n",
    "hp1beta_dimer_native_pairs.to_csv('hp1beta_dimer_native_pairs.csv', index=False)"
   ]
  }
 ],
 "metadata": {
  "kernelspec": {
   "display_name": "py38",
   "language": "python",
   "name": "python3"
  },
  "language_info": {
   "codemirror_mode": {
    "name": "ipython",
    "version": 3
   },
   "file_extension": ".py",
   "mimetype": "text/x-python",
   "name": "python",
   "nbconvert_exporter": "python",
   "pygments_lexer": "ipython3",
   "version": "3.8.13"
  },
  "orig_nbformat": 4,
  "vscode": {
   "interpreter": {
    "hash": "95d07581651f3c45a5651aa035df7e4a83b5587ddccf2e46662da40695cb8d28"
   }
  }
 },
 "nbformat": 4,
 "nbformat_minor": 2
}
